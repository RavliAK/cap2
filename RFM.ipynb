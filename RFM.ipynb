{
 "cells": [
  {
   "cell_type": "code",
   "execution_count": 1,
   "metadata": {},
   "outputs": [
    {
     "data": {
      "text/html": [
       "        <script type=\"text/javascript\">\n",
       "        window.PlotlyConfig = {MathJaxConfig: 'local'};\n",
       "        if (window.MathJax && window.MathJax.Hub && window.MathJax.Hub.Config) {window.MathJax.Hub.Config({SVG: {font: \"STIX-Web\"}});}\n",
       "        if (typeof require !== 'undefined') {\n",
       "        require.undef(\"plotly\");\n",
       "        requirejs.config({\n",
       "            paths: {\n",
       "                'plotly': ['https://cdn.plot.ly/plotly-2.12.1.min']\n",
       "            }\n",
       "        });\n",
       "        require(['plotly'], function(Plotly) {\n",
       "            window._Plotly = Plotly;\n",
       "        });\n",
       "        }\n",
       "        </script>\n",
       "        "
      ]
     },
     "metadata": {},
     "output_type": "display_data"
    }
   ],
   "source": [
    "import pandas as pd\n",
    "import numpy as np\n",
    "import statistics\n",
    "import plotly.express as px\n",
    "import seaborn as sns\n",
    "import matplotlib.pyplot as plt\n",
    "import statsmodels.api as sm\n",
    "import scipy.stats as stats\n",
    "import cufflinks as cf\n",
    "from datetime import datetime\n",
    "from operator import attrgetter\n",
    "cf.go_offline()\n",
    "from statsmodels.stats.diagnostic import lilliefors"
   ]
  },
  {
   "cell_type": "markdown",
   "metadata": {},
   "source": [
    "### STAKEHOLDER: \n",
    "* Team Marketing AWS Amazon\n",
    "\n",
    "## Rumusan Masalah\n",
    "\n",
    "Tim pemasaran mengalami kesulitan dalam memahami perilaku pelanggan yang tidak konsisten. Situasi ini menyebabkan kebingungan dalam menentukan langkah strategis berikutnya. Oleh karena itu, diperlukan suatu metode untuk mengidentifikasi pola perilaku pelanggan.\n",
    "\n",
    "1. **Bagaimana karakteristik dan Behavior dari pelanggan AWS Amazon?**\n",
    "\n",
    "Apabila pola perilaku telah teridentifikasi, diperlukan wawasan dari data tersebut untuk merumuskan langkah-langkah strategis. \n",
    "Oleh karena itu, perlu disusun rangkuman singkat mengenai kondisi perilaku pelanggan.\n",
    "   \n",
    "2. **buatkan rangkuman singkat mengenai tiap Behavior pelanggan yang dapat digunakan untuk merumuskan langkah-langkah strategis?**\n",
    "\n",
    "hasil analisis perlu disampaikan kepada tim pemasaran dengan cara yang mudah di mengerti\n",
    "\n",
    "3. **Bagaimana kita dapat menghadirkan rekomendasi kepada tim pemasaran berdasarkan hasil analisis?**\n",
    "   \n",
    "\n",
    "## Tujuan Penelitian\n",
    "\n",
    "\n",
    "- Mengidentifikasi karakteristik dan Behavior dari pelanggan AWS Amazon Berdasarkan\n",
    "\n",
    "- Mengidentifikasi Insight yang dapat digunakan dalam merumuskan langkah-langkah strategis\n",
    "\n",
    "- Menyampaikan hasil analisis dalam bentuk Actionable Recommendation kepada Stakeholder\n",
    "\n",
    "\n",
    "## Pertanyaan Penelitian\n",
    "\n",
    "   \n",
    "1. data-data apa saja yang dapat mengindikasikan behaviour & karakteristik pelanggan?\n",
    "   \n",
    "2. Bagaimana melakukan segmentasi pelanggan yang dapat menunjukan behavior pelanggan?\n",
    "\n",
    "\n",
    "\n",
    "## Analytical Approach\n",
    "\n",
    "Metode yang akan digunakan adalah RFM (Recency, Frequency, Monetary) analysis, di mana:\n",
    "\n",
    "- **Recency**: Mengukur jangka waktu sejak transaksi terakhir pelanggan.\n",
    "  \n",
    "- **Frequency**: Mengukur jumlah transaksi yang dilakukan oleh pelanggan dalam periode waktu tertentu.\n",
    "  \n",
    "- **Monetary**: Mengukur total nilai transaksi yang dilakukan oleh pelanggan.\n",
    "\n",
    "Analisis akan melibatkan penggunaan algoritma clustering untuk mengelompokkan pelanggan ke dalam segmen berdasarkan nilai RFM yang dihitung.\n"
   ]
  },
  {
   "cell_type": "code",
   "execution_count": null,
   "metadata": {},
   "outputs": [],
   "source": []
  },
  {
   "cell_type": "markdown",
   "metadata": {},
   "source": [
    "### Loading dataset"
   ]
  },
  {
   "cell_type": "code",
   "execution_count": 2,
   "metadata": {},
   "outputs": [],
   "source": [
    "df=pd.read_csv('SaaS-Sales.csv')\n"
   ]
  },
  {
   "cell_type": "markdown",
   "metadata": {},
   "source": [
    "## Data Understanding\n",
    "dfset ini berisi df transaksi dari perusahaan SaaS fiktif yang menjual perangkat lunak penjualan dan pemasaran kepada perusahaan lain (B2B). Dalam dfset ini, setiap baris mewakili satu produk dalam suatu transaksi, dan kolom-kolom mencakup:\n",
    "\n",
    "Berikut adalah dfset Asli: [Sumber](https://www.kaggle.com/datasets/nnthanh101/aws-saas-sales)\n",
    "\n",
    "| No. | Column Name    | Description                                                |\n",
    "|----|----------------|------------------------------------------------------------|\n",
    "| 1  | Row ID         | Identifikasi unik untuk setiap transaksi.                  |\n",
    "| 2  | Order ID       | Identifikasi unik untuk setiap pesanan.                    |\n",
    "| 3  | Order Date     | Tanggal ketika pesanan ditempatkan.                         |\n",
    "| 4  | Date Key       | Representasi numerik dari tanggal pesanan (YYYYMMDD).       |\n",
    "| 5  | Contact Name   | Nama orang yang menempatkan pesanan.                       |\n",
    "| 6  | Country        | Negara tempat pesanan ditempatkan.                         |\n",
    "| 7  | City           | Kota tempat pesanan ditempatkan.                            |\n",
    "| 8  | Region         | Wilayah tempat pesanan ditempatkan.                         |\n",
    "| 9  | Subregion      | Subwilayah tempat pesanan ditempatkan.                      |\n",
    "| 10 | Customer       | Nama perusahaan yang menempatkan pesanan.                  |\n",
    "| 11 | Customer ID    | Identifikasi unik untuk setiap pelanggan.                   |\n",
    "| 12 | Industry       | Industri yang dimiliki oleh pelanggan.                      |\n",
    "| 13 | Segment        | Segmen pelanggan (SMB, Strategis, Enterprise, dll.).       |\n",
    "| 14 | Product        | Produk yang dipesan.                                       |\n",
    "| 15 | License        | Kunci lisensi untuk produk.                                |\n",
    "| 16 | Sales          | Jumlah penjualan total untuk transaksi.                    |\n",
    "| 17 | Quantity       | Jumlah total barang dalam transaksi.                       |\n",
    "| 18 | Discount       | Diskon yang diterapkan pada transaksi.                     |\n",
    "| 19 | Profit         | Keuntungan dari transaksi.                                  |\n"
   ]
  },
  {
   "cell_type": "markdown",
   "metadata": {},
   "source": [
    "## Data Cleaning\n",
    "* Missing Value : Menggunakan Isna().sum() Untuk mengecheck jumlah missing value tiap kolom"
   ]
  },
  {
   "cell_type": "code",
   "execution_count": 3,
   "metadata": {},
   "outputs": [
    {
     "data": {
      "text/plain": [
       "Row ID          0\n",
       "Order ID        0\n",
       "Order Date      0\n",
       "Date Key        0\n",
       "Contact Name    0\n",
       "Country         0\n",
       "City            0\n",
       "Region          0\n",
       "Subregion       0\n",
       "Customer        0\n",
       "Customer ID     0\n",
       "Industry        0\n",
       "Segment         0\n",
       "Product         0\n",
       "License         0\n",
       "Sales           0\n",
       "Quantity        0\n",
       "Discount        0\n",
       "Profit          0\n",
       "dtype: int64"
      ]
     },
     "execution_count": 3,
     "metadata": {},
     "output_type": "execute_result"
    }
   ],
   "source": [
    "df.isna().sum()"
   ]
  },
  {
   "cell_type": "markdown",
   "metadata": {},
   "source": [
    "Tidak ditemukan Missing value"
   ]
  },
  {
   "cell_type": "markdown",
   "metadata": {},
   "source": [
    "* data format: menggunakan describe untuk mengecek data negatif yang tidak masuk akal"
   ]
  },
  {
   "cell_type": "code",
   "execution_count": 4,
   "metadata": {},
   "outputs": [
    {
     "data": {
      "text/html": [
       "<div>\n",
       "<style scoped>\n",
       "    .dataframe tbody tr th:only-of-type {\n",
       "        vertical-align: middle;\n",
       "    }\n",
       "\n",
       "    .dataframe tbody tr th {\n",
       "        vertical-align: top;\n",
       "    }\n",
       "\n",
       "    .dataframe thead th {\n",
       "        text-align: right;\n",
       "    }\n",
       "</style>\n",
       "<table border=\"1\" class=\"dataframe\">\n",
       "  <thead>\n",
       "    <tr style=\"text-align: right;\">\n",
       "      <th></th>\n",
       "      <th>Row ID</th>\n",
       "      <th>Date Key</th>\n",
       "      <th>Customer ID</th>\n",
       "      <th>Sales</th>\n",
       "      <th>Quantity</th>\n",
       "      <th>Discount</th>\n",
       "      <th>Profit</th>\n",
       "    </tr>\n",
       "  </thead>\n",
       "  <tbody>\n",
       "    <tr>\n",
       "      <th>count</th>\n",
       "      <td>9994.000000</td>\n",
       "      <td>9.994000e+03</td>\n",
       "      <td>9994.000000</td>\n",
       "      <td>9994.000000</td>\n",
       "      <td>9994.000000</td>\n",
       "      <td>9994.000000</td>\n",
       "      <td>9994.000000</td>\n",
       "    </tr>\n",
       "    <tr>\n",
       "      <th>mean</th>\n",
       "      <td>4997.500000</td>\n",
       "      <td>2.021803e+07</td>\n",
       "      <td>1049.771963</td>\n",
       "      <td>229.858001</td>\n",
       "      <td>3.789574</td>\n",
       "      <td>0.156203</td>\n",
       "      <td>28.656896</td>\n",
       "    </tr>\n",
       "    <tr>\n",
       "      <th>std</th>\n",
       "      <td>2885.163629</td>\n",
       "      <td>1.123898e+04</td>\n",
       "      <td>29.719388</td>\n",
       "      <td>623.245101</td>\n",
       "      <td>2.225110</td>\n",
       "      <td>0.206452</td>\n",
       "      <td>234.260108</td>\n",
       "    </tr>\n",
       "    <tr>\n",
       "      <th>min</th>\n",
       "      <td>1.000000</td>\n",
       "      <td>2.020010e+07</td>\n",
       "      <td>1001.000000</td>\n",
       "      <td>0.444000</td>\n",
       "      <td>1.000000</td>\n",
       "      <td>0.000000</td>\n",
       "      <td>-6599.978000</td>\n",
       "    </tr>\n",
       "    <tr>\n",
       "      <th>25%</th>\n",
       "      <td>2499.250000</td>\n",
       "      <td>2.021052e+07</td>\n",
       "      <td>1024.000000</td>\n",
       "      <td>17.280000</td>\n",
       "      <td>2.000000</td>\n",
       "      <td>0.000000</td>\n",
       "      <td>1.728750</td>\n",
       "    </tr>\n",
       "    <tr>\n",
       "      <th>50%</th>\n",
       "      <td>4997.500000</td>\n",
       "      <td>2.022063e+07</td>\n",
       "      <td>1049.000000</td>\n",
       "      <td>54.490000</td>\n",
       "      <td>3.000000</td>\n",
       "      <td>0.200000</td>\n",
       "      <td>8.666500</td>\n",
       "    </tr>\n",
       "    <tr>\n",
       "      <th>75%</th>\n",
       "      <td>7495.750000</td>\n",
       "      <td>2.023052e+07</td>\n",
       "      <td>1076.000000</td>\n",
       "      <td>209.940000</td>\n",
       "      <td>5.000000</td>\n",
       "      <td>0.200000</td>\n",
       "      <td>29.364000</td>\n",
       "    </tr>\n",
       "    <tr>\n",
       "      <th>max</th>\n",
       "      <td>9994.000000</td>\n",
       "      <td>2.023123e+07</td>\n",
       "      <td>1101.000000</td>\n",
       "      <td>22638.480000</td>\n",
       "      <td>14.000000</td>\n",
       "      <td>0.800000</td>\n",
       "      <td>8399.976000</td>\n",
       "    </tr>\n",
       "  </tbody>\n",
       "</table>\n",
       "</div>"
      ],
      "text/plain": [
       "            Row ID      Date Key  Customer ID         Sales     Quantity  \\\n",
       "count  9994.000000  9.994000e+03  9994.000000   9994.000000  9994.000000   \n",
       "mean   4997.500000  2.021803e+07  1049.771963    229.858001     3.789574   \n",
       "std    2885.163629  1.123898e+04    29.719388    623.245101     2.225110   \n",
       "min       1.000000  2.020010e+07  1001.000000      0.444000     1.000000   \n",
       "25%    2499.250000  2.021052e+07  1024.000000     17.280000     2.000000   \n",
       "50%    4997.500000  2.022063e+07  1049.000000     54.490000     3.000000   \n",
       "75%    7495.750000  2.023052e+07  1076.000000    209.940000     5.000000   \n",
       "max    9994.000000  2.023123e+07  1101.000000  22638.480000    14.000000   \n",
       "\n",
       "          Discount       Profit  \n",
       "count  9994.000000  9994.000000  \n",
       "mean      0.156203    28.656896  \n",
       "std       0.206452   234.260108  \n",
       "min       0.000000 -6599.978000  \n",
       "25%       0.000000     1.728750  \n",
       "50%       0.200000     8.666500  \n",
       "75%       0.200000    29.364000  \n",
       "max       0.800000  8399.976000  "
      ]
     },
     "execution_count": 4,
     "metadata": {},
     "output_type": "execute_result"
    }
   ],
   "source": [
    "df.describe()"
   ]
  },
  {
   "cell_type": "markdown",
   "metadata": {},
   "source": [
    "profit memiliki data negatif namun masih masuk akal karena ini menandakan kerugian setelah di check ulang data negatif hanya keluar saat sebuah produk dijual dengan discount tertentu\n",
    "dari sini dapat diasumsikan bahwa profit menunjukan keuntungan(nilai positif) dan juga kerugian(nilai negatif)"
   ]
  },
  {
   "cell_type": "markdown",
   "metadata": {},
   "source": [
    "* Data Types: untuk mengecheck data types yang tidak sesuai\n"
   ]
  },
  {
   "cell_type": "code",
   "execution_count": 5,
   "metadata": {},
   "outputs": [
    {
     "name": "stdout",
     "output_type": "stream",
     "text": [
      "<class 'pandas.core.frame.DataFrame'>\n",
      "RangeIndex: 9994 entries, 0 to 9993\n",
      "Data columns (total 19 columns):\n",
      " #   Column        Non-Null Count  Dtype  \n",
      "---  ------        --------------  -----  \n",
      " 0   Row ID        9994 non-null   int64  \n",
      " 1   Order ID      9994 non-null   object \n",
      " 2   Order Date    9994 non-null   object \n",
      " 3   Date Key      9994 non-null   int64  \n",
      " 4   Contact Name  9994 non-null   object \n",
      " 5   Country       9994 non-null   object \n",
      " 6   City          9994 non-null   object \n",
      " 7   Region        9994 non-null   object \n",
      " 8   Subregion     9994 non-null   object \n",
      " 9   Customer      9994 non-null   object \n",
      " 10  Customer ID   9994 non-null   int64  \n",
      " 11  Industry      9994 non-null   object \n",
      " 12  Segment       9994 non-null   object \n",
      " 13  Product       9994 non-null   object \n",
      " 14  License       9994 non-null   object \n",
      " 15  Sales         9994 non-null   float64\n",
      " 16  Quantity      9994 non-null   int64  \n",
      " 17  Discount      9994 non-null   float64\n",
      " 18  Profit        9994 non-null   float64\n",
      "dtypes: float64(3), int64(4), object(12)\n",
      "memory usage: 1.4+ MB\n"
     ]
    }
   ],
   "source": [
    "df.info()"
   ]
  },
  {
   "cell_type": "markdown",
   "metadata": {},
   "source": [
    "Order date perlu dibetulkan typecast dari type object menjadi datetime"
   ]
  },
  {
   "cell_type": "code",
   "execution_count": 6,
   "metadata": {},
   "outputs": [
    {
     "data": {
      "text/plain": [
       "Row ID                   int64\n",
       "Order ID                object\n",
       "Order Date      datetime64[ns]\n",
       "Date Key                 int64\n",
       "Contact Name            object\n",
       "Country                 object\n",
       "City                    object\n",
       "Region                  object\n",
       "Subregion               object\n",
       "Customer                object\n",
       "Customer ID              int64\n",
       "Industry                object\n",
       "Segment                 object\n",
       "Product                 object\n",
       "License                 object\n",
       "Sales                  float64\n",
       "Quantity                 int64\n",
       "Discount               float64\n",
       "Profit                 float64\n",
       "dtype: object"
      ]
     },
     "execution_count": 6,
     "metadata": {},
     "output_type": "execute_result"
    }
   ],
   "source": [
    "df[\"Order Date\"]=pd.to_datetime(df[\"Order Date\"])\n",
    "df.dtypes"
   ]
  },
  {
   "cell_type": "markdown",
   "metadata": {},
   "source": [
    "* Duplicate: mengecheck duplicate"
   ]
  },
  {
   "cell_type": "code",
   "execution_count": 7,
   "metadata": {},
   "outputs": [
    {
     "data": {
      "text/plain": [
       "Row ID          9994\n",
       "Order ID        5009\n",
       "Order Date      1237\n",
       "Date Key        1237\n",
       "Contact Name     793\n",
       "Country           48\n",
       "City             262\n",
       "Region             3\n",
       "Subregion         12\n",
       "Customer          99\n",
       "Customer ID       99\n",
       "Industry          10\n",
       "Segment            3\n",
       "Product           14\n",
       "License         9994\n",
       "Sales           5825\n",
       "Quantity          14\n",
       "Discount          12\n",
       "Profit          7287\n",
       "dtype: int64"
      ]
     },
     "execution_count": 7,
     "metadata": {},
     "output_type": "execute_result"
    }
   ],
   "source": [
    "df.nunique()"
   ]
  },
  {
   "cell_type": "markdown",
   "metadata": {},
   "source": [
    "row id dan license unique value perlu di drop untuk mengcheck duplicates"
   ]
  },
  {
   "cell_type": "code",
   "execution_count": 8,
   "metadata": {},
   "outputs": [
    {
     "data": {
      "text/plain": [
       "1"
      ]
     },
     "execution_count": 8,
     "metadata": {},
     "output_type": "execute_result"
    }
   ],
   "source": [
    "df.drop(['Row ID','License'], axis=1, inplace=True)\n",
    "df.duplicated().sum()\n"
   ]
  },
  {
   "cell_type": "markdown",
   "metadata": {},
   "source": [
    "ditemukan 1 duplicate"
   ]
  },
  {
   "cell_type": "code",
   "execution_count": 9,
   "metadata": {},
   "outputs": [
    {
     "data": {
      "text/html": [
       "<div>\n",
       "<style scoped>\n",
       "    .dataframe tbody tr th:only-of-type {\n",
       "        vertical-align: middle;\n",
       "    }\n",
       "\n",
       "    .dataframe tbody tr th {\n",
       "        vertical-align: top;\n",
       "    }\n",
       "\n",
       "    .dataframe thead th {\n",
       "        text-align: right;\n",
       "    }\n",
       "</style>\n",
       "<table border=\"1\" class=\"dataframe\">\n",
       "  <thead>\n",
       "    <tr style=\"text-align: right;\">\n",
       "      <th></th>\n",
       "      <th>Order ID</th>\n",
       "      <th>Order Date</th>\n",
       "      <th>Date Key</th>\n",
       "      <th>Contact Name</th>\n",
       "      <th>Country</th>\n",
       "      <th>City</th>\n",
       "      <th>Region</th>\n",
       "      <th>Subregion</th>\n",
       "      <th>Customer</th>\n",
       "      <th>Customer ID</th>\n",
       "      <th>Industry</th>\n",
       "      <th>Segment</th>\n",
       "      <th>Product</th>\n",
       "      <th>Sales</th>\n",
       "      <th>Quantity</th>\n",
       "      <th>Discount</th>\n",
       "      <th>Profit</th>\n",
       "    </tr>\n",
       "  </thead>\n",
       "  <tbody>\n",
       "    <tr>\n",
       "      <th>0</th>\n",
       "      <td>EMEA-2022-152156</td>\n",
       "      <td>2022-11-09</td>\n",
       "      <td>20221109</td>\n",
       "      <td>Nathan Bell</td>\n",
       "      <td>Ireland</td>\n",
       "      <td>Dublin</td>\n",
       "      <td>EMEA</td>\n",
       "      <td>UKIR</td>\n",
       "      <td>Chevron</td>\n",
       "      <td>1017</td>\n",
       "      <td>Energy</td>\n",
       "      <td>SMB</td>\n",
       "      <td>Marketing Suite</td>\n",
       "      <td>261.9600</td>\n",
       "      <td>2</td>\n",
       "      <td>0.00</td>\n",
       "      <td>41.9136</td>\n",
       "    </tr>\n",
       "    <tr>\n",
       "      <th>1</th>\n",
       "      <td>EMEA-2022-152156</td>\n",
       "      <td>2022-11-09</td>\n",
       "      <td>20221109</td>\n",
       "      <td>Nathan Bell</td>\n",
       "      <td>Ireland</td>\n",
       "      <td>Dublin</td>\n",
       "      <td>EMEA</td>\n",
       "      <td>UKIR</td>\n",
       "      <td>Chevron</td>\n",
       "      <td>1017</td>\n",
       "      <td>Energy</td>\n",
       "      <td>SMB</td>\n",
       "      <td>FinanceHub</td>\n",
       "      <td>731.9400</td>\n",
       "      <td>3</td>\n",
       "      <td>0.00</td>\n",
       "      <td>219.5820</td>\n",
       "    </tr>\n",
       "    <tr>\n",
       "      <th>2</th>\n",
       "      <td>AMER-2022-138688</td>\n",
       "      <td>2022-06-13</td>\n",
       "      <td>20220613</td>\n",
       "      <td>Deirdre Bailey</td>\n",
       "      <td>United States</td>\n",
       "      <td>New York City</td>\n",
       "      <td>AMER</td>\n",
       "      <td>NAMER</td>\n",
       "      <td>Phillips 66</td>\n",
       "      <td>1056</td>\n",
       "      <td>Energy</td>\n",
       "      <td>Strategic</td>\n",
       "      <td>FinanceHub</td>\n",
       "      <td>14.6200</td>\n",
       "      <td>2</td>\n",
       "      <td>0.00</td>\n",
       "      <td>6.8714</td>\n",
       "    </tr>\n",
       "    <tr>\n",
       "      <th>3</th>\n",
       "      <td>EMEA-2021-108966</td>\n",
       "      <td>2021-10-11</td>\n",
       "      <td>20211011</td>\n",
       "      <td>Zoe Hodges</td>\n",
       "      <td>Germany</td>\n",
       "      <td>Stuttgart</td>\n",
       "      <td>EMEA</td>\n",
       "      <td>EU-WEST</td>\n",
       "      <td>Royal Dutch Shell</td>\n",
       "      <td>1031</td>\n",
       "      <td>Energy</td>\n",
       "      <td>SMB</td>\n",
       "      <td>ContactMatcher</td>\n",
       "      <td>957.5775</td>\n",
       "      <td>5</td>\n",
       "      <td>0.45</td>\n",
       "      <td>-383.0310</td>\n",
       "    </tr>\n",
       "    <tr>\n",
       "      <th>4</th>\n",
       "      <td>EMEA-2021-108966</td>\n",
       "      <td>2021-10-11</td>\n",
       "      <td>20211011</td>\n",
       "      <td>Zoe Hodges</td>\n",
       "      <td>Germany</td>\n",
       "      <td>Stuttgart</td>\n",
       "      <td>EMEA</td>\n",
       "      <td>EU-WEST</td>\n",
       "      <td>Royal Dutch Shell</td>\n",
       "      <td>1031</td>\n",
       "      <td>Energy</td>\n",
       "      <td>SMB</td>\n",
       "      <td>Marketing Suite - Gold</td>\n",
       "      <td>22.3680</td>\n",
       "      <td>2</td>\n",
       "      <td>0.20</td>\n",
       "      <td>2.5164</td>\n",
       "    </tr>\n",
       "    <tr>\n",
       "      <th>...</th>\n",
       "      <td>...</td>\n",
       "      <td>...</td>\n",
       "      <td>...</td>\n",
       "      <td>...</td>\n",
       "      <td>...</td>\n",
       "      <td>...</td>\n",
       "      <td>...</td>\n",
       "      <td>...</td>\n",
       "      <td>...</td>\n",
       "      <td>...</td>\n",
       "      <td>...</td>\n",
       "      <td>...</td>\n",
       "      <td>...</td>\n",
       "      <td>...</td>\n",
       "      <td>...</td>\n",
       "      <td>...</td>\n",
       "      <td>...</td>\n",
       "    </tr>\n",
       "    <tr>\n",
       "      <th>9989</th>\n",
       "      <td>EMEA-2020-110422</td>\n",
       "      <td>2020-01-22</td>\n",
       "      <td>20200122</td>\n",
       "      <td>Dan Allan</td>\n",
       "      <td>Germany</td>\n",
       "      <td>Hamburg</td>\n",
       "      <td>EMEA</td>\n",
       "      <td>EU-WEST</td>\n",
       "      <td>Johnson &amp; Johnson</td>\n",
       "      <td>1055</td>\n",
       "      <td>Healthcare</td>\n",
       "      <td>SMB</td>\n",
       "      <td>SaaS Connector Pack</td>\n",
       "      <td>25.2480</td>\n",
       "      <td>3</td>\n",
       "      <td>0.20</td>\n",
       "      <td>4.1028</td>\n",
       "    </tr>\n",
       "    <tr>\n",
       "      <th>9990</th>\n",
       "      <td>AMER-2023-121258</td>\n",
       "      <td>2023-02-27</td>\n",
       "      <td>20230227</td>\n",
       "      <td>Anthony Sanderson</td>\n",
       "      <td>United States</td>\n",
       "      <td>Milwaukee</td>\n",
       "      <td>AMER</td>\n",
       "      <td>NAMER</td>\n",
       "      <td>American Express</td>\n",
       "      <td>1005</td>\n",
       "      <td>Finance</td>\n",
       "      <td>SMB</td>\n",
       "      <td>SaaS Connector Pack</td>\n",
       "      <td>91.9600</td>\n",
       "      <td>2</td>\n",
       "      <td>0.00</td>\n",
       "      <td>15.6332</td>\n",
       "    </tr>\n",
       "    <tr>\n",
       "      <th>9991</th>\n",
       "      <td>AMER-2023-121258</td>\n",
       "      <td>2023-02-27</td>\n",
       "      <td>20230227</td>\n",
       "      <td>Anthony Sanderson</td>\n",
       "      <td>United States</td>\n",
       "      <td>Milwaukee</td>\n",
       "      <td>AMER</td>\n",
       "      <td>NAMER</td>\n",
       "      <td>American Express</td>\n",
       "      <td>1005</td>\n",
       "      <td>Finance</td>\n",
       "      <td>SMB</td>\n",
       "      <td>Site Analytics</td>\n",
       "      <td>258.5760</td>\n",
       "      <td>2</td>\n",
       "      <td>0.20</td>\n",
       "      <td>19.3932</td>\n",
       "    </tr>\n",
       "    <tr>\n",
       "      <th>9992</th>\n",
       "      <td>AMER-2023-121258</td>\n",
       "      <td>2023-02-27</td>\n",
       "      <td>20230227</td>\n",
       "      <td>Anthony Sanderson</td>\n",
       "      <td>United States</td>\n",
       "      <td>Milwaukee</td>\n",
       "      <td>AMER</td>\n",
       "      <td>NAMER</td>\n",
       "      <td>American Express</td>\n",
       "      <td>1005</td>\n",
       "      <td>Finance</td>\n",
       "      <td>SMB</td>\n",
       "      <td>Support</td>\n",
       "      <td>29.6000</td>\n",
       "      <td>4</td>\n",
       "      <td>0.00</td>\n",
       "      <td>13.3200</td>\n",
       "    </tr>\n",
       "    <tr>\n",
       "      <th>9993</th>\n",
       "      <td>AMER-2023-119914</td>\n",
       "      <td>2023-05-05</td>\n",
       "      <td>20230505</td>\n",
       "      <td>Jasmine Springer</td>\n",
       "      <td>United States</td>\n",
       "      <td>Dallas</td>\n",
       "      <td>AMER</td>\n",
       "      <td>NAMER</td>\n",
       "      <td>Comcast</td>\n",
       "      <td>1022</td>\n",
       "      <td>Communications</td>\n",
       "      <td>SMB</td>\n",
       "      <td>OneView</td>\n",
       "      <td>243.1600</td>\n",
       "      <td>2</td>\n",
       "      <td>0.00</td>\n",
       "      <td>72.9480</td>\n",
       "    </tr>\n",
       "  </tbody>\n",
       "</table>\n",
       "<p>9993 rows × 17 columns</p>\n",
       "</div>"
      ],
      "text/plain": [
       "              Order ID Order Date  Date Key       Contact Name        Country  \\\n",
       "0     EMEA-2022-152156 2022-11-09  20221109        Nathan Bell        Ireland   \n",
       "1     EMEA-2022-152156 2022-11-09  20221109        Nathan Bell        Ireland   \n",
       "2     AMER-2022-138688 2022-06-13  20220613     Deirdre Bailey  United States   \n",
       "3     EMEA-2021-108966 2021-10-11  20211011         Zoe Hodges        Germany   \n",
       "4     EMEA-2021-108966 2021-10-11  20211011         Zoe Hodges        Germany   \n",
       "...                ...        ...       ...                ...            ...   \n",
       "9989  EMEA-2020-110422 2020-01-22  20200122          Dan Allan        Germany   \n",
       "9990  AMER-2023-121258 2023-02-27  20230227  Anthony Sanderson  United States   \n",
       "9991  AMER-2023-121258 2023-02-27  20230227  Anthony Sanderson  United States   \n",
       "9992  AMER-2023-121258 2023-02-27  20230227  Anthony Sanderson  United States   \n",
       "9993  AMER-2023-119914 2023-05-05  20230505   Jasmine Springer  United States   \n",
       "\n",
       "               City Region Subregion           Customer  Customer ID  \\\n",
       "0            Dublin   EMEA      UKIR            Chevron         1017   \n",
       "1            Dublin   EMEA      UKIR            Chevron         1017   \n",
       "2     New York City   AMER     NAMER        Phillips 66         1056   \n",
       "3         Stuttgart   EMEA   EU-WEST  Royal Dutch Shell         1031   \n",
       "4         Stuttgart   EMEA   EU-WEST  Royal Dutch Shell         1031   \n",
       "...             ...    ...       ...                ...          ...   \n",
       "9989        Hamburg   EMEA   EU-WEST  Johnson & Johnson         1055   \n",
       "9990      Milwaukee   AMER     NAMER   American Express         1005   \n",
       "9991      Milwaukee   AMER     NAMER   American Express         1005   \n",
       "9992      Milwaukee   AMER     NAMER   American Express         1005   \n",
       "9993         Dallas   AMER     NAMER            Comcast         1022   \n",
       "\n",
       "            Industry    Segment                 Product     Sales  Quantity  \\\n",
       "0             Energy        SMB         Marketing Suite  261.9600         2   \n",
       "1             Energy        SMB              FinanceHub  731.9400         3   \n",
       "2             Energy  Strategic              FinanceHub   14.6200         2   \n",
       "3             Energy        SMB          ContactMatcher  957.5775         5   \n",
       "4             Energy        SMB  Marketing Suite - Gold   22.3680         2   \n",
       "...              ...        ...                     ...       ...       ...   \n",
       "9989      Healthcare        SMB     SaaS Connector Pack   25.2480         3   \n",
       "9990         Finance        SMB     SaaS Connector Pack   91.9600         2   \n",
       "9991         Finance        SMB          Site Analytics  258.5760         2   \n",
       "9992         Finance        SMB                 Support   29.6000         4   \n",
       "9993  Communications        SMB                 OneView  243.1600         2   \n",
       "\n",
       "      Discount    Profit  \n",
       "0         0.00   41.9136  \n",
       "1         0.00  219.5820  \n",
       "2         0.00    6.8714  \n",
       "3         0.45 -383.0310  \n",
       "4         0.20    2.5164  \n",
       "...        ...       ...  \n",
       "9989      0.20    4.1028  \n",
       "9990      0.00   15.6332  \n",
       "9991      0.20   19.3932  \n",
       "9992      0.00   13.3200  \n",
       "9993      0.00   72.9480  \n",
       "\n",
       "[9993 rows x 17 columns]"
      ]
     },
     "execution_count": 9,
     "metadata": {},
     "output_type": "execute_result"
    }
   ],
   "source": [
    "df.drop_duplicates()"
   ]
  },
  {
   "cell_type": "markdown",
   "metadata": {},
   "source": [
    "* outlier: mengecek data yang jauh dari rata-rata, pengecheckan dilakukan terhadap column dengan tipe data numerik yang akan di pakai dalam analisa"
   ]
  },
  {
   "cell_type": "markdown",
   "metadata": {},
   "source": []
  },
  {
   "cell_type": "code",
   "execution_count": 10,
   "metadata": {},
   "outputs": [
    {
     "data": {
      "text/html": [
       "<div>\n",
       "<style scoped>\n",
       "    .dataframe tbody tr th:only-of-type {\n",
       "        vertical-align: middle;\n",
       "    }\n",
       "\n",
       "    .dataframe tbody tr th {\n",
       "        vertical-align: top;\n",
       "    }\n",
       "\n",
       "    .dataframe thead th {\n",
       "        text-align: right;\n",
       "    }\n",
       "</style>\n",
       "<table border=\"1\" class=\"dataframe\">\n",
       "  <thead>\n",
       "    <tr style=\"text-align: right;\">\n",
       "      <th></th>\n",
       "      <th>Order ID</th>\n",
       "      <th>Order Date</th>\n",
       "      <th>Date Key</th>\n",
       "      <th>Contact Name</th>\n",
       "      <th>Country</th>\n",
       "      <th>City</th>\n",
       "      <th>Region</th>\n",
       "      <th>Subregion</th>\n",
       "      <th>Customer</th>\n",
       "      <th>Customer ID</th>\n",
       "      <th>Industry</th>\n",
       "      <th>Segment</th>\n",
       "      <th>Product</th>\n",
       "      <th>Sales</th>\n",
       "      <th>Quantity</th>\n",
       "      <th>Discount</th>\n",
       "      <th>Profit</th>\n",
       "    </tr>\n",
       "  </thead>\n",
       "  <tbody>\n",
       "    <tr>\n",
       "      <th>1</th>\n",
       "      <td>EMEA-2022-152156</td>\n",
       "      <td>2022-11-09</td>\n",
       "      <td>20221109</td>\n",
       "      <td>Nathan Bell</td>\n",
       "      <td>Ireland</td>\n",
       "      <td>Dublin</td>\n",
       "      <td>EMEA</td>\n",
       "      <td>UKIR</td>\n",
       "      <td>Chevron</td>\n",
       "      <td>1017</td>\n",
       "      <td>Energy</td>\n",
       "      <td>SMB</td>\n",
       "      <td>FinanceHub</td>\n",
       "      <td>731.9400</td>\n",
       "      <td>3</td>\n",
       "      <td>0.00</td>\n",
       "      <td>219.5820</td>\n",
       "    </tr>\n",
       "    <tr>\n",
       "      <th>3</th>\n",
       "      <td>EMEA-2021-108966</td>\n",
       "      <td>2021-10-11</td>\n",
       "      <td>20211011</td>\n",
       "      <td>Zoe Hodges</td>\n",
       "      <td>Germany</td>\n",
       "      <td>Stuttgart</td>\n",
       "      <td>EMEA</td>\n",
       "      <td>EU-WEST</td>\n",
       "      <td>Royal Dutch Shell</td>\n",
       "      <td>1031</td>\n",
       "      <td>Energy</td>\n",
       "      <td>SMB</td>\n",
       "      <td>ContactMatcher</td>\n",
       "      <td>957.5775</td>\n",
       "      <td>5</td>\n",
       "      <td>0.45</td>\n",
       "      <td>-383.0310</td>\n",
       "    </tr>\n",
       "    <tr>\n",
       "      <th>7</th>\n",
       "      <td>AMER-2020-115812</td>\n",
       "      <td>2020-06-09</td>\n",
       "      <td>20200609</td>\n",
       "      <td>Thomas Hodges</td>\n",
       "      <td>United States</td>\n",
       "      <td>New York City</td>\n",
       "      <td>AMER</td>\n",
       "      <td>NAMER</td>\n",
       "      <td>BNP Paribas</td>\n",
       "      <td>1065</td>\n",
       "      <td>Finance</td>\n",
       "      <td>SMB</td>\n",
       "      <td>Site Analytics</td>\n",
       "      <td>907.1520</td>\n",
       "      <td>6</td>\n",
       "      <td>0.20</td>\n",
       "      <td>90.7152</td>\n",
       "    </tr>\n",
       "    <tr>\n",
       "      <th>10</th>\n",
       "      <td>AMER-2020-115812</td>\n",
       "      <td>2020-06-09</td>\n",
       "      <td>20200609</td>\n",
       "      <td>Thomas Hodges</td>\n",
       "      <td>United States</td>\n",
       "      <td>New York City</td>\n",
       "      <td>AMER</td>\n",
       "      <td>NAMER</td>\n",
       "      <td>BNP Paribas</td>\n",
       "      <td>1065</td>\n",
       "      <td>Finance</td>\n",
       "      <td>SMB</td>\n",
       "      <td>ContactMatcher</td>\n",
       "      <td>1706.1840</td>\n",
       "      <td>9</td>\n",
       "      <td>0.20</td>\n",
       "      <td>85.3092</td>\n",
       "    </tr>\n",
       "    <tr>\n",
       "      <th>11</th>\n",
       "      <td>AMER-2020-115812</td>\n",
       "      <td>2020-06-09</td>\n",
       "      <td>20200609</td>\n",
       "      <td>Thomas Hodges</td>\n",
       "      <td>United States</td>\n",
       "      <td>New York City</td>\n",
       "      <td>AMER</td>\n",
       "      <td>NAMER</td>\n",
       "      <td>BNP Paribas</td>\n",
       "      <td>1065</td>\n",
       "      <td>Finance</td>\n",
       "      <td>SMB</td>\n",
       "      <td>Site Analytics</td>\n",
       "      <td>911.4240</td>\n",
       "      <td>4</td>\n",
       "      <td>0.20</td>\n",
       "      <td>68.3568</td>\n",
       "    </tr>\n",
       "    <tr>\n",
       "      <th>...</th>\n",
       "      <td>...</td>\n",
       "      <td>...</td>\n",
       "      <td>...</td>\n",
       "      <td>...</td>\n",
       "      <td>...</td>\n",
       "      <td>...</td>\n",
       "      <td>...</td>\n",
       "      <td>...</td>\n",
       "      <td>...</td>\n",
       "      <td>...</td>\n",
       "      <td>...</td>\n",
       "      <td>...</td>\n",
       "      <td>...</td>\n",
       "      <td>...</td>\n",
       "      <td>...</td>\n",
       "      <td>...</td>\n",
       "      <td>...</td>\n",
       "    </tr>\n",
       "    <tr>\n",
       "      <th>9931</th>\n",
       "      <td>AMER-2021-104948</td>\n",
       "      <td>2021-11-13</td>\n",
       "      <td>20211113</td>\n",
       "      <td>Kimberly Newman</td>\n",
       "      <td>United States</td>\n",
       "      <td>Anaheim</td>\n",
       "      <td>AMER</td>\n",
       "      <td>NAMER</td>\n",
       "      <td>Amazon</td>\n",
       "      <td>1004</td>\n",
       "      <td>Tech</td>\n",
       "      <td>SMB</td>\n",
       "      <td>Marketing Suite</td>\n",
       "      <td>683.3320</td>\n",
       "      <td>4</td>\n",
       "      <td>0.15</td>\n",
       "      <td>-40.1960</td>\n",
       "    </tr>\n",
       "    <tr>\n",
       "      <th>9942</th>\n",
       "      <td>AMER-2020-143371</td>\n",
       "      <td>2020-12-28</td>\n",
       "      <td>20201228</td>\n",
       "      <td>Carol Forsyth</td>\n",
       "      <td>United States</td>\n",
       "      <td>San Francisco</td>\n",
       "      <td>AMER</td>\n",
       "      <td>NAMER</td>\n",
       "      <td>Nestle</td>\n",
       "      <td>1089</td>\n",
       "      <td>Consumer Products</td>\n",
       "      <td>SMB</td>\n",
       "      <td>Marketing Suite - Gold</td>\n",
       "      <td>998.8200</td>\n",
       "      <td>9</td>\n",
       "      <td>0.00</td>\n",
       "      <td>29.9646</td>\n",
       "    </tr>\n",
       "    <tr>\n",
       "      <th>9947</th>\n",
       "      <td>APJ-2023-121559</td>\n",
       "      <td>2023-06-02</td>\n",
       "      <td>20230602</td>\n",
       "      <td>Harry McGrath</td>\n",
       "      <td>India</td>\n",
       "      <td>Delhi</td>\n",
       "      <td>APJ</td>\n",
       "      <td>IND</td>\n",
       "      <td>Valero Energy</td>\n",
       "      <td>1093</td>\n",
       "      <td>Energy</td>\n",
       "      <td>Strategic</td>\n",
       "      <td>FinanceHub</td>\n",
       "      <td>1925.8800</td>\n",
       "      <td>6</td>\n",
       "      <td>0.00</td>\n",
       "      <td>539.2464</td>\n",
       "    </tr>\n",
       "    <tr>\n",
       "      <th>9948</th>\n",
       "      <td>APJ-2023-121559</td>\n",
       "      <td>2023-06-02</td>\n",
       "      <td>20230602</td>\n",
       "      <td>Harry McGrath</td>\n",
       "      <td>India</td>\n",
       "      <td>Delhi</td>\n",
       "      <td>APJ</td>\n",
       "      <td>IND</td>\n",
       "      <td>Valero Energy</td>\n",
       "      <td>1093</td>\n",
       "      <td>Energy</td>\n",
       "      <td>Strategic</td>\n",
       "      <td>OneView</td>\n",
       "      <td>2405.2000</td>\n",
       "      <td>8</td>\n",
       "      <td>0.00</td>\n",
       "      <td>793.7160</td>\n",
       "    </tr>\n",
       "    <tr>\n",
       "      <th>9968</th>\n",
       "      <td>AMER-2023-153871</td>\n",
       "      <td>2023-12-12</td>\n",
       "      <td>20231212</td>\n",
       "      <td>Connor Paige</td>\n",
       "      <td>Argentina</td>\n",
       "      <td>Rosario</td>\n",
       "      <td>AMER</td>\n",
       "      <td>LATAM</td>\n",
       "      <td>AT&amp;T</td>\n",
       "      <td>1010</td>\n",
       "      <td>Communications</td>\n",
       "      <td>SMB</td>\n",
       "      <td>ContactMatcher</td>\n",
       "      <td>735.9800</td>\n",
       "      <td>2</td>\n",
       "      <td>0.00</td>\n",
       "      <td>331.1910</td>\n",
       "    </tr>\n",
       "  </tbody>\n",
       "</table>\n",
       "<p>1167 rows × 17 columns</p>\n",
       "</div>"
      ],
      "text/plain": [
       "              Order ID Order Date  Date Key     Contact Name        Country  \\\n",
       "1     EMEA-2022-152156 2022-11-09  20221109      Nathan Bell        Ireland   \n",
       "3     EMEA-2021-108966 2021-10-11  20211011       Zoe Hodges        Germany   \n",
       "7     AMER-2020-115812 2020-06-09  20200609    Thomas Hodges  United States   \n",
       "10    AMER-2020-115812 2020-06-09  20200609    Thomas Hodges  United States   \n",
       "11    AMER-2020-115812 2020-06-09  20200609    Thomas Hodges  United States   \n",
       "...                ...        ...       ...              ...            ...   \n",
       "9931  AMER-2021-104948 2021-11-13  20211113  Kimberly Newman  United States   \n",
       "9942  AMER-2020-143371 2020-12-28  20201228    Carol Forsyth  United States   \n",
       "9947   APJ-2023-121559 2023-06-02  20230602    Harry McGrath          India   \n",
       "9948   APJ-2023-121559 2023-06-02  20230602    Harry McGrath          India   \n",
       "9968  AMER-2023-153871 2023-12-12  20231212     Connor Paige      Argentina   \n",
       "\n",
       "               City Region Subregion           Customer  Customer ID  \\\n",
       "1            Dublin   EMEA      UKIR            Chevron         1017   \n",
       "3         Stuttgart   EMEA   EU-WEST  Royal Dutch Shell         1031   \n",
       "7     New York City   AMER     NAMER        BNP Paribas         1065   \n",
       "10    New York City   AMER     NAMER        BNP Paribas         1065   \n",
       "11    New York City   AMER     NAMER        BNP Paribas         1065   \n",
       "...             ...    ...       ...                ...          ...   \n",
       "9931        Anaheim   AMER     NAMER             Amazon         1004   \n",
       "9942  San Francisco   AMER     NAMER             Nestle         1089   \n",
       "9947          Delhi    APJ       IND      Valero Energy         1093   \n",
       "9948          Delhi    APJ       IND      Valero Energy         1093   \n",
       "9968        Rosario   AMER     LATAM               AT&T         1010   \n",
       "\n",
       "               Industry    Segment                 Product      Sales  \\\n",
       "1                Energy        SMB              FinanceHub   731.9400   \n",
       "3                Energy        SMB          ContactMatcher   957.5775   \n",
       "7               Finance        SMB          Site Analytics   907.1520   \n",
       "10              Finance        SMB          ContactMatcher  1706.1840   \n",
       "11              Finance        SMB          Site Analytics   911.4240   \n",
       "...                 ...        ...                     ...        ...   \n",
       "9931               Tech        SMB         Marketing Suite   683.3320   \n",
       "9942  Consumer Products        SMB  Marketing Suite - Gold   998.8200   \n",
       "9947             Energy  Strategic              FinanceHub  1925.8800   \n",
       "9948             Energy  Strategic                 OneView  2405.2000   \n",
       "9968     Communications        SMB          ContactMatcher   735.9800   \n",
       "\n",
       "      Quantity  Discount    Profit  \n",
       "1            3      0.00  219.5820  \n",
       "3            5      0.45 -383.0310  \n",
       "7            6      0.20   90.7152  \n",
       "10           9      0.20   85.3092  \n",
       "11           4      0.20   68.3568  \n",
       "...        ...       ...       ...  \n",
       "9931         4      0.15  -40.1960  \n",
       "9942         9      0.00   29.9646  \n",
       "9947         6      0.00  539.2464  \n",
       "9948         8      0.00  793.7160  \n",
       "9968         2      0.00  331.1910  \n",
       "\n",
       "[1167 rows x 17 columns]"
      ]
     },
     "execution_count": 10,
     "metadata": {},
     "output_type": "execute_result"
    }
   ],
   "source": [
    "Q1 = df['Sales'].quantile(0.25)\n",
    "Q3 = df['Sales'].quantile(0.75)\n",
    "IQR= Q3-Q1\n",
    "lwrBnd=Q1-(1.5*IQR)\n",
    "uprBnd=Q3+(1.5*IQR)\n",
    "outlier=df[(df['Sales'] < lwrBnd) | (df['Sales'] > uprBnd)]\n",
    "outlier"
   ]
  },
  {
   "cell_type": "markdown",
   "metadata": {},
   "source": [
    "sales memiliki 1167 outlier namun pengencekan ulang dapat dilihat bahwa column outlier mengkalkulasikan pemasukkan kotor yang telah discount\n",
    "\n",
    "karena adanya pengaruh column discount, fluctuasi harga dapat dimaklumkan dan outlier masih dalam alam kewajaran. outlier dapat di pertahankan"
   ]
  },
  {
   "cell_type": "markdown",
   "metadata": {},
   "source": [
    "## Data Prepping"
   ]
  },
  {
   "cell_type": "markdown",
   "metadata": {},
   "source": [
    "Pembuatan column Order Month untuk menjadi dasar Recency."
   ]
  },
  {
   "cell_type": "code",
   "execution_count": 11,
   "metadata": {},
   "outputs": [
    {
     "data": {
      "text/plain": [
       "Order ID                object\n",
       "Order Date      datetime64[ns]\n",
       "Date Key                 int64\n",
       "Contact Name            object\n",
       "Country                 object\n",
       "City                    object\n",
       "Region                  object\n",
       "Subregion               object\n",
       "Customer                object\n",
       "Customer ID              int64\n",
       "Industry                object\n",
       "Segment                 object\n",
       "Product                 object\n",
       "Sales                  float64\n",
       "Quantity                 int64\n",
       "Discount               float64\n",
       "Profit                 float64\n",
       "Order Month     datetime64[ns]\n",
       "dtype: object"
      ]
     },
     "execution_count": 11,
     "metadata": {},
     "output_type": "execute_result"
    }
   ],
   "source": [
    "df['Order Month']=pd.to_datetime(df['Order Date']).dt.to_period('M')\n",
    "df['Order Month']=df['Order Month'].dt.to_timestamp()\n",
    "df.dtypes"
   ]
  },
  {
   "cell_type": "markdown",
   "metadata": {},
   "source": [
    "## Analisa RFM"
   ]
  },
  {
   "cell_type": "code",
   "execution_count": 12,
   "metadata": {},
   "outputs": [
    {
     "data": {
      "text/html": [
       "<div>\n",
       "<style scoped>\n",
       "    .dataframe tbody tr th:only-of-type {\n",
       "        vertical-align: middle;\n",
       "    }\n",
       "\n",
       "    .dataframe tbody tr th {\n",
       "        vertical-align: top;\n",
       "    }\n",
       "\n",
       "    .dataframe thead th {\n",
       "        text-align: right;\n",
       "    }\n",
       "</style>\n",
       "<table border=\"1\" class=\"dataframe\">\n",
       "  <thead>\n",
       "    <tr style=\"text-align: right;\">\n",
       "      <th></th>\n",
       "      <th>Order ID</th>\n",
       "      <th>Order Date</th>\n",
       "      <th>Date Key</th>\n",
       "      <th>Contact Name</th>\n",
       "      <th>Country</th>\n",
       "      <th>City</th>\n",
       "      <th>Region</th>\n",
       "      <th>Subregion</th>\n",
       "      <th>Customer</th>\n",
       "      <th>Customer ID</th>\n",
       "      <th>Industry</th>\n",
       "      <th>Segment</th>\n",
       "      <th>Product</th>\n",
       "      <th>Sales</th>\n",
       "      <th>Quantity</th>\n",
       "      <th>Discount</th>\n",
       "      <th>Profit</th>\n",
       "      <th>Order Month</th>\n",
       "    </tr>\n",
       "  </thead>\n",
       "  <tbody>\n",
       "    <tr>\n",
       "      <th>0</th>\n",
       "      <td>EMEA-2022-152156</td>\n",
       "      <td>2022-11-09</td>\n",
       "      <td>20221109</td>\n",
       "      <td>Nathan Bell</td>\n",
       "      <td>Ireland</td>\n",
       "      <td>Dublin</td>\n",
       "      <td>EMEA</td>\n",
       "      <td>UKIR</td>\n",
       "      <td>Chevron</td>\n",
       "      <td>1017</td>\n",
       "      <td>Energy</td>\n",
       "      <td>SMB</td>\n",
       "      <td>Marketing Suite</td>\n",
       "      <td>261.9600</td>\n",
       "      <td>2</td>\n",
       "      <td>0.00</td>\n",
       "      <td>41.9136</td>\n",
       "      <td>2022-11-01</td>\n",
       "    </tr>\n",
       "    <tr>\n",
       "      <th>1</th>\n",
       "      <td>EMEA-2022-152156</td>\n",
       "      <td>2022-11-09</td>\n",
       "      <td>20221109</td>\n",
       "      <td>Nathan Bell</td>\n",
       "      <td>Ireland</td>\n",
       "      <td>Dublin</td>\n",
       "      <td>EMEA</td>\n",
       "      <td>UKIR</td>\n",
       "      <td>Chevron</td>\n",
       "      <td>1017</td>\n",
       "      <td>Energy</td>\n",
       "      <td>SMB</td>\n",
       "      <td>FinanceHub</td>\n",
       "      <td>731.9400</td>\n",
       "      <td>3</td>\n",
       "      <td>0.00</td>\n",
       "      <td>219.5820</td>\n",
       "      <td>2022-11-01</td>\n",
       "    </tr>\n",
       "    <tr>\n",
       "      <th>2</th>\n",
       "      <td>AMER-2022-138688</td>\n",
       "      <td>2022-06-13</td>\n",
       "      <td>20220613</td>\n",
       "      <td>Deirdre Bailey</td>\n",
       "      <td>United States</td>\n",
       "      <td>New York City</td>\n",
       "      <td>AMER</td>\n",
       "      <td>NAMER</td>\n",
       "      <td>Phillips 66</td>\n",
       "      <td>1056</td>\n",
       "      <td>Energy</td>\n",
       "      <td>Strategic</td>\n",
       "      <td>FinanceHub</td>\n",
       "      <td>14.6200</td>\n",
       "      <td>2</td>\n",
       "      <td>0.00</td>\n",
       "      <td>6.8714</td>\n",
       "      <td>2022-06-01</td>\n",
       "    </tr>\n",
       "    <tr>\n",
       "      <th>3</th>\n",
       "      <td>EMEA-2021-108966</td>\n",
       "      <td>2021-10-11</td>\n",
       "      <td>20211011</td>\n",
       "      <td>Zoe Hodges</td>\n",
       "      <td>Germany</td>\n",
       "      <td>Stuttgart</td>\n",
       "      <td>EMEA</td>\n",
       "      <td>EU-WEST</td>\n",
       "      <td>Royal Dutch Shell</td>\n",
       "      <td>1031</td>\n",
       "      <td>Energy</td>\n",
       "      <td>SMB</td>\n",
       "      <td>ContactMatcher</td>\n",
       "      <td>957.5775</td>\n",
       "      <td>5</td>\n",
       "      <td>0.45</td>\n",
       "      <td>-383.0310</td>\n",
       "      <td>2021-10-01</td>\n",
       "    </tr>\n",
       "    <tr>\n",
       "      <th>4</th>\n",
       "      <td>EMEA-2021-108966</td>\n",
       "      <td>2021-10-11</td>\n",
       "      <td>20211011</td>\n",
       "      <td>Zoe Hodges</td>\n",
       "      <td>Germany</td>\n",
       "      <td>Stuttgart</td>\n",
       "      <td>EMEA</td>\n",
       "      <td>EU-WEST</td>\n",
       "      <td>Royal Dutch Shell</td>\n",
       "      <td>1031</td>\n",
       "      <td>Energy</td>\n",
       "      <td>SMB</td>\n",
       "      <td>Marketing Suite - Gold</td>\n",
       "      <td>22.3680</td>\n",
       "      <td>2</td>\n",
       "      <td>0.20</td>\n",
       "      <td>2.5164</td>\n",
       "      <td>2021-10-01</td>\n",
       "    </tr>\n",
       "  </tbody>\n",
       "</table>\n",
       "</div>"
      ],
      "text/plain": [
       "           Order ID Order Date  Date Key    Contact Name        Country  \\\n",
       "0  EMEA-2022-152156 2022-11-09  20221109     Nathan Bell        Ireland   \n",
       "1  EMEA-2022-152156 2022-11-09  20221109     Nathan Bell        Ireland   \n",
       "2  AMER-2022-138688 2022-06-13  20220613  Deirdre Bailey  United States   \n",
       "3  EMEA-2021-108966 2021-10-11  20211011      Zoe Hodges        Germany   \n",
       "4  EMEA-2021-108966 2021-10-11  20211011      Zoe Hodges        Germany   \n",
       "\n",
       "            City Region Subregion           Customer  Customer ID Industry  \\\n",
       "0         Dublin   EMEA      UKIR            Chevron         1017   Energy   \n",
       "1         Dublin   EMEA      UKIR            Chevron         1017   Energy   \n",
       "2  New York City   AMER     NAMER        Phillips 66         1056   Energy   \n",
       "3      Stuttgart   EMEA   EU-WEST  Royal Dutch Shell         1031   Energy   \n",
       "4      Stuttgart   EMEA   EU-WEST  Royal Dutch Shell         1031   Energy   \n",
       "\n",
       "     Segment                 Product     Sales  Quantity  Discount    Profit  \\\n",
       "0        SMB         Marketing Suite  261.9600         2      0.00   41.9136   \n",
       "1        SMB              FinanceHub  731.9400         3      0.00  219.5820   \n",
       "2  Strategic              FinanceHub   14.6200         2      0.00    6.8714   \n",
       "3        SMB          ContactMatcher  957.5775         5      0.45 -383.0310   \n",
       "4        SMB  Marketing Suite - Gold   22.3680         2      0.20    2.5164   \n",
       "\n",
       "  Order Month  \n",
       "0  2022-11-01  \n",
       "1  2022-11-01  \n",
       "2  2022-06-01  \n",
       "3  2021-10-01  \n",
       "4  2021-10-01  "
      ]
     },
     "execution_count": 12,
     "metadata": {},
     "output_type": "execute_result"
    }
   ],
   "source": [
    "df.head()\n"
   ]
  },
  {
   "cell_type": "markdown",
   "metadata": {},
   "source": [
    "Pertama dilakukan aggregasi untuk melihat karakteristik tiap customer.\n",
    "\n",
    "order month akan menjadi dasar perhitungan recensy\n",
    "\n",
    "jumlah order ID menjadi perhitungan frekuensi(di buat count, bukan nunique karena, ada bbrp transaksi 2 produk berbeda yang memiliki order ID yang sama)\n",
    "\n",
    "sales menjadi dasar monetary values(sales adalah pemasukan kotor, sedangkan profit adalah keuntungan/kerugian bersih. monetary values terfokus terhadap customer maka cost diabaikan, yang dihitung nilai masuk bersih)"
   ]
  },
  {
   "cell_type": "markdown",
   "metadata": {},
   "source": []
  },
  {
   "cell_type": "code",
   "execution_count": 13,
   "metadata": {},
   "outputs": [
    {
     "data": {
      "text/html": [
       "<div>\n",
       "<style scoped>\n",
       "    .dataframe tbody tr th:only-of-type {\n",
       "        vertical-align: middle;\n",
       "    }\n",
       "\n",
       "    .dataframe tbody tr th {\n",
       "        vertical-align: top;\n",
       "    }\n",
       "\n",
       "    .dataframe thead th {\n",
       "        text-align: right;\n",
       "    }\n",
       "</style>\n",
       "<table border=\"1\" class=\"dataframe\">\n",
       "  <thead>\n",
       "    <tr style=\"text-align: right;\">\n",
       "      <th></th>\n",
       "      <th>Order Month</th>\n",
       "      <th>Freq</th>\n",
       "      <th>Mon</th>\n",
       "    </tr>\n",
       "    <tr>\n",
       "      <th>Customer ID</th>\n",
       "      <th></th>\n",
       "      <th></th>\n",
       "      <th></th>\n",
       "    </tr>\n",
       "  </thead>\n",
       "  <tbody>\n",
       "    <tr>\n",
       "      <th>1001</th>\n",
       "      <td>2023-12-01</td>\n",
       "      <td>67</td>\n",
       "      <td>12617.1140</td>\n",
       "    </tr>\n",
       "    <tr>\n",
       "      <th>1002</th>\n",
       "      <td>2023-12-01</td>\n",
       "      <td>153</td>\n",
       "      <td>27278.5930</td>\n",
       "    </tr>\n",
       "    <tr>\n",
       "      <th>1003</th>\n",
       "      <td>2023-12-01</td>\n",
       "      <td>105</td>\n",
       "      <td>39941.6400</td>\n",
       "    </tr>\n",
       "    <tr>\n",
       "      <th>1004</th>\n",
       "      <td>2023-12-01</td>\n",
       "      <td>134</td>\n",
       "      <td>23189.2165</td>\n",
       "    </tr>\n",
       "    <tr>\n",
       "      <th>1005</th>\n",
       "      <td>2023-12-01</td>\n",
       "      <td>137</td>\n",
       "      <td>33514.9210</td>\n",
       "    </tr>\n",
       "    <tr>\n",
       "      <th>...</th>\n",
       "      <td>...</td>\n",
       "      <td>...</td>\n",
       "      <td>...</td>\n",
       "    </tr>\n",
       "    <tr>\n",
       "      <th>1097</th>\n",
       "      <td>2023-12-01</td>\n",
       "      <td>103</td>\n",
       "      <td>29483.0050</td>\n",
       "    </tr>\n",
       "    <tr>\n",
       "      <th>1098</th>\n",
       "      <td>2023-12-01</td>\n",
       "      <td>70</td>\n",
       "      <td>22650.8206</td>\n",
       "    </tr>\n",
       "    <tr>\n",
       "      <th>1099</th>\n",
       "      <td>2023-12-01</td>\n",
       "      <td>98</td>\n",
       "      <td>23180.5442</td>\n",
       "    </tr>\n",
       "    <tr>\n",
       "      <th>1100</th>\n",
       "      <td>2023-12-01</td>\n",
       "      <td>103</td>\n",
       "      <td>33447.1270</td>\n",
       "    </tr>\n",
       "    <tr>\n",
       "      <th>1101</th>\n",
       "      <td>2023-11-01</td>\n",
       "      <td>84</td>\n",
       "      <td>11065.0582</td>\n",
       "    </tr>\n",
       "  </tbody>\n",
       "</table>\n",
       "<p>99 rows × 3 columns</p>\n",
       "</div>"
      ],
      "text/plain": [
       "            Order Month  Freq         Mon\n",
       "Customer ID                              \n",
       "1001         2023-12-01    67  12617.1140\n",
       "1002         2023-12-01   153  27278.5930\n",
       "1003         2023-12-01   105  39941.6400\n",
       "1004         2023-12-01   134  23189.2165\n",
       "1005         2023-12-01   137  33514.9210\n",
       "...                 ...   ...         ...\n",
       "1097         2023-12-01   103  29483.0050\n",
       "1098         2023-12-01    70  22650.8206\n",
       "1099         2023-12-01    98  23180.5442\n",
       "1100         2023-12-01   103  33447.1270\n",
       "1101         2023-11-01    84  11065.0582\n",
       "\n",
       "[99 rows x 3 columns]"
      ]
     },
     "execution_count": 13,
     "metadata": {},
     "output_type": "execute_result"
    }
   ],
   "source": [
    "dfR=df.groupby('Customer ID').agg({'Order Month' : 'max', 'Order ID' : 'count' , 'Sales' : 'sum'})\n",
    "dfR=dfR.rename(columns={'Order Month' : 'Order Month', 'Order ID' : 'Freq' , 'Sales' : 'Mon'})\n",
    "dfR"
   ]
  },
  {
   "cell_type": "markdown",
   "metadata": {},
   "source": [
    "Kalkulasi Recency, order month terakhir dianggap tanggal observasi"
   ]
  },
  {
   "cell_type": "code",
   "execution_count": 14,
   "metadata": {},
   "outputs": [],
   "source": [
    "dfR['Current_Month']=dfR['Order Month'].max()\n",
    "dfR['Rec']=(dfR['Current_Month']-dfR['Order Month']) // pd.Timedelta(days=30)"
   ]
  },
  {
   "cell_type": "markdown",
   "metadata": {},
   "source": [
    "Labelling Kriteria RFM masing-masing pelanggan,\n",
    "rec dicari yang lebih kecil karena menunjukan jangka waktu paling dekat dengan tanggal observasi"
   ]
  },
  {
   "cell_type": "code",
   "execution_count": 15,
   "metadata": {},
   "outputs": [],
   "source": [
    "\n",
    "MRec=dfR['Rec'].mean()\n",
    "MFreg=dfR['Freq'].mean()\n",
    "MMon=dfR['Mon'].mean()\n",
    "dfR['RecG']=np.where(dfR['Rec']<MRec,1,0)\n",
    "dfR['FreqG']=np.where(dfR['Freq']>MFreg,1,0)\n",
    "dfR['MonG']=np.where(dfR['Mon']>MMon,1,0)\n"
   ]
  },
  {
   "cell_type": "markdown",
   "metadata": {},
   "source": [
    "segmentasi"
   ]
  },
  {
   "cell_type": "code",
   "execution_count": 16,
   "metadata": {},
   "outputs": [
    {
     "data": {
      "text/html": [
       "<div>\n",
       "<style scoped>\n",
       "    .dataframe tbody tr th:only-of-type {\n",
       "        vertical-align: middle;\n",
       "    }\n",
       "\n",
       "    .dataframe tbody tr th {\n",
       "        vertical-align: top;\n",
       "    }\n",
       "\n",
       "    .dataframe thead th {\n",
       "        text-align: right;\n",
       "    }\n",
       "</style>\n",
       "<table border=\"1\" class=\"dataframe\">\n",
       "  <thead>\n",
       "    <tr style=\"text-align: right;\">\n",
       "      <th></th>\n",
       "      <th>Order Month</th>\n",
       "      <th>Freq</th>\n",
       "      <th>Mon</th>\n",
       "      <th>Current_Month</th>\n",
       "      <th>Rec</th>\n",
       "      <th>RecG</th>\n",
       "      <th>FreqG</th>\n",
       "      <th>MonG</th>\n",
       "      <th>label</th>\n",
       "    </tr>\n",
       "    <tr>\n",
       "      <th>Customer ID</th>\n",
       "      <th></th>\n",
       "      <th></th>\n",
       "      <th></th>\n",
       "      <th></th>\n",
       "      <th></th>\n",
       "      <th></th>\n",
       "      <th></th>\n",
       "      <th></th>\n",
       "      <th></th>\n",
       "    </tr>\n",
       "  </thead>\n",
       "  <tbody>\n",
       "    <tr>\n",
       "      <th>1001</th>\n",
       "      <td>2023-12-01</td>\n",
       "      <td>67</td>\n",
       "      <td>12617.1140</td>\n",
       "      <td>2023-12-01</td>\n",
       "      <td>0</td>\n",
       "      <td>1</td>\n",
       "      <td>0</td>\n",
       "      <td>0</td>\n",
       "      <td>5</td>\n",
       "    </tr>\n",
       "    <tr>\n",
       "      <th>1002</th>\n",
       "      <td>2023-12-01</td>\n",
       "      <td>153</td>\n",
       "      <td>27278.5930</td>\n",
       "      <td>2023-12-01</td>\n",
       "      <td>0</td>\n",
       "      <td>1</td>\n",
       "      <td>1</td>\n",
       "      <td>1</td>\n",
       "      <td>1</td>\n",
       "    </tr>\n",
       "    <tr>\n",
       "      <th>1003</th>\n",
       "      <td>2023-12-01</td>\n",
       "      <td>105</td>\n",
       "      <td>39941.6400</td>\n",
       "      <td>2023-12-01</td>\n",
       "      <td>0</td>\n",
       "      <td>1</td>\n",
       "      <td>1</td>\n",
       "      <td>1</td>\n",
       "      <td>1</td>\n",
       "    </tr>\n",
       "    <tr>\n",
       "      <th>1004</th>\n",
       "      <td>2023-12-01</td>\n",
       "      <td>134</td>\n",
       "      <td>23189.2165</td>\n",
       "      <td>2023-12-01</td>\n",
       "      <td>0</td>\n",
       "      <td>1</td>\n",
       "      <td>1</td>\n",
       "      <td>0</td>\n",
       "      <td>2</td>\n",
       "    </tr>\n",
       "    <tr>\n",
       "      <th>1005</th>\n",
       "      <td>2023-12-01</td>\n",
       "      <td>137</td>\n",
       "      <td>33514.9210</td>\n",
       "      <td>2023-12-01</td>\n",
       "      <td>0</td>\n",
       "      <td>1</td>\n",
       "      <td>1</td>\n",
       "      <td>1</td>\n",
       "      <td>1</td>\n",
       "    </tr>\n",
       "    <tr>\n",
       "      <th>...</th>\n",
       "      <td>...</td>\n",
       "      <td>...</td>\n",
       "      <td>...</td>\n",
       "      <td>...</td>\n",
       "      <td>...</td>\n",
       "      <td>...</td>\n",
       "      <td>...</td>\n",
       "      <td>...</td>\n",
       "      <td>...</td>\n",
       "    </tr>\n",
       "    <tr>\n",
       "      <th>1097</th>\n",
       "      <td>2023-12-01</td>\n",
       "      <td>103</td>\n",
       "      <td>29483.0050</td>\n",
       "      <td>2023-12-01</td>\n",
       "      <td>0</td>\n",
       "      <td>1</td>\n",
       "      <td>1</td>\n",
       "      <td>1</td>\n",
       "      <td>1</td>\n",
       "    </tr>\n",
       "    <tr>\n",
       "      <th>1098</th>\n",
       "      <td>2023-12-01</td>\n",
       "      <td>70</td>\n",
       "      <td>22650.8206</td>\n",
       "      <td>2023-12-01</td>\n",
       "      <td>0</td>\n",
       "      <td>1</td>\n",
       "      <td>0</td>\n",
       "      <td>0</td>\n",
       "      <td>5</td>\n",
       "    </tr>\n",
       "    <tr>\n",
       "      <th>1099</th>\n",
       "      <td>2023-12-01</td>\n",
       "      <td>98</td>\n",
       "      <td>23180.5442</td>\n",
       "      <td>2023-12-01</td>\n",
       "      <td>0</td>\n",
       "      <td>1</td>\n",
       "      <td>0</td>\n",
       "      <td>0</td>\n",
       "      <td>5</td>\n",
       "    </tr>\n",
       "    <tr>\n",
       "      <th>1100</th>\n",
       "      <td>2023-12-01</td>\n",
       "      <td>103</td>\n",
       "      <td>33447.1270</td>\n",
       "      <td>2023-12-01</td>\n",
       "      <td>0</td>\n",
       "      <td>1</td>\n",
       "      <td>1</td>\n",
       "      <td>1</td>\n",
       "      <td>1</td>\n",
       "    </tr>\n",
       "    <tr>\n",
       "      <th>1101</th>\n",
       "      <td>2023-11-01</td>\n",
       "      <td>84</td>\n",
       "      <td>11065.0582</td>\n",
       "      <td>2023-12-01</td>\n",
       "      <td>1</td>\n",
       "      <td>0</td>\n",
       "      <td>0</td>\n",
       "      <td>0</td>\n",
       "      <td>8</td>\n",
       "    </tr>\n",
       "  </tbody>\n",
       "</table>\n",
       "<p>99 rows × 9 columns</p>\n",
       "</div>"
      ],
      "text/plain": [
       "            Order Month  Freq         Mon Current_Month  Rec  RecG  FreqG  \\\n",
       "Customer ID                                                                 \n",
       "1001         2023-12-01    67  12617.1140    2023-12-01    0     1      0   \n",
       "1002         2023-12-01   153  27278.5930    2023-12-01    0     1      1   \n",
       "1003         2023-12-01   105  39941.6400    2023-12-01    0     1      1   \n",
       "1004         2023-12-01   134  23189.2165    2023-12-01    0     1      1   \n",
       "1005         2023-12-01   137  33514.9210    2023-12-01    0     1      1   \n",
       "...                 ...   ...         ...           ...  ...   ...    ...   \n",
       "1097         2023-12-01   103  29483.0050    2023-12-01    0     1      1   \n",
       "1098         2023-12-01    70  22650.8206    2023-12-01    0     1      0   \n",
       "1099         2023-12-01    98  23180.5442    2023-12-01    0     1      0   \n",
       "1100         2023-12-01   103  33447.1270    2023-12-01    0     1      1   \n",
       "1101         2023-11-01    84  11065.0582    2023-12-01    1     0      0   \n",
       "\n",
       "             MonG  label  \n",
       "Customer ID               \n",
       "1001            0      5  \n",
       "1002            1      1  \n",
       "1003            1      1  \n",
       "1004            0      2  \n",
       "1005            1      1  \n",
       "...           ...    ...  \n",
       "1097            1      1  \n",
       "1098            0      5  \n",
       "1099            0      5  \n",
       "1100            1      1  \n",
       "1101            0      8  \n",
       "\n",
       "[99 rows x 9 columns]"
      ]
     },
     "execution_count": 16,
     "metadata": {},
     "output_type": "execute_result"
    }
   ],
   "source": [
    "\n",
    "\n",
    "conditions = [\n",
    "    (dfR['RecG'] == 1) & (dfR['FreqG'] == 1) & (dfR['MonG'] == 1),\n",
    "    (dfR['RecG'] == 1) & (dfR['FreqG'] == 1) & (dfR['MonG'] == 0),\n",
    "    (dfR['RecG'] == 1) & (dfR['FreqG'] == 0) & (dfR['MonG'] == 1),\n",
    "    (dfR['RecG'] == 0) & (dfR['FreqG'] == 1) & (dfR['MonG'] == 1),\n",
    "    (dfR['RecG'] == 1) & (dfR['FreqG'] == 0) & (dfR['MonG'] == 0),\n",
    "    (dfR['RecG'] == 0) & (dfR['FreqG'] == 1) & (dfR['MonG'] == 0),\n",
    "    (dfR['RecG'] == 0) & (dfR['FreqG'] == 0) & (dfR['MonG'] == 1)\n",
    "]\n",
    "\n",
    "values = [1, 2, 3, 4, 5, 6, 7]\n",
    "\n",
    "\n",
    "default_value = 8\n",
    "\n",
    "\n",
    "dfR['label'] = np.select(conditions, values, default=default_value)\n",
    "\n",
    "dfR\n"
   ]
  },
  {
   "cell_type": "markdown",
   "metadata": {},
   "source": [
    "pie plot untuk Menunjukan karakteristik pelanggan AWS berdasar keseluruhan"
   ]
  },
  {
   "cell_type": "code",
   "execution_count": 17,
   "metadata": {},
   "outputs": [
    {
     "data": {
      "text/plain": [
       "<Figure size 1400x700 with 0 Axes>"
      ]
     },
     "metadata": {},
     "output_type": "display_data"
    },
    {
     "data": {
      "image/png": "[encoded data removed]",
      "text/plain": [
       "<Figure size 1000x1500 with 3 Axes>"
      ]
     },
     "metadata": {},
     "output_type": "display_data"
    }
   ],
   "source": [
    "plot=dfR[['label','RecG','FreqG','MonG']]\n",
    "plt.figure(figsize=(14,7))\n",
    "fig, axs = plt.subplots(3, 1, figsize=(10, 15))\n",
    "\n",
    "RecCount=plot['RecG'].value_counts()\n",
    "FreqCount=plot['FreqG'].value_counts()\n",
    "MonCount=plot['MonG'].value_counts()\n",
    "\n",
    "label=['Ideal','Not Ideal']\n",
    "label2=['Not Ideal','Ideal']\n",
    "colors = ['skyblue', 'lightcoral']\n",
    "colors2 = ['lightcoral','skyblue']\n",
    "\n",
    "axs[0].pie(RecCount, labels=label, autopct='%1.1f%%', colors=colors, startangle=90)\n",
    "axs[0].set_title('Ratio of Customer With Ideal(Recency)')\n",
    "\n",
    "axs[1].pie(FreqCount, labels=label2, autopct='%1.1f%%',colors=colors2, startangle=90)\n",
    "axs[1].set_title('Ratio of Customer With Ideal(Frequency)')\n",
    "\n",
    "axs[2].pie(MonCount, labels=label2, autopct='%1.1f%%',colors=colors2, startangle=90)\n",
    "axs[2].set_title('Ratio of Customer With Ideal(Monetary Value)')\n",
    "\n",
    "\n",
    "plt.show()"
   ]
  },
  {
   "cell_type": "markdown",
   "metadata": {},
   "source": [
    "Visualisasi RFM Segmentation dengan Scatter plot"
   ]
  },
  {
   "cell_type": "code",
   "execution_count": 18,
   "metadata": {},
   "outputs": [
    {
     "data": {
      "application/vnd.plotly.v1+json": {
       "config": {
        "plotlyServerURL": "https://plot.ly"
       },
       "data": [
        {
         "hovertemplate": "Rec=%{x}<br>Mon=%{y}<br>Freq=%{z}<br>label=%{marker.color}<extra></extra>",
         "legendgroup": "",
         "marker": {
          "color": [
           5,
           1,
           1,
           2,
           1,
           5,
           1,
           5,
           1,
           1,
           1,
           5,
           5,
           5,
           1,
           5,
           1,
           5,
           5,
           8,
           3,
           1,
           6,
           1,
           5,
           1,
           8,
           2,
           1,
           1,
           1,
           1,
           5,
           5,
           1,
           3,
           5,
           4,
           5,
           8,
           5,
           4,
           1,
           5,
           1,
           3,
           2,
           3,
           5,
           1,
           5,
           5,
           2,
           1,
           3,
           1,
           5,
           8,
           1,
           8,
           5,
           5,
           5,
           1,
           5,
           1,
           1,
           8,
           5,
           2,
           1,
           5,
           2,
           1,
           5,
           2,
           8,
           1,
           2,
           2,
           8,
           8,
           5,
           8,
           1,
           1,
           6,
           3,
           5,
           1,
           1,
           5,
           5,
           2,
           1,
           5,
           5,
           1,
           8
          ],
          "coloraxis": "coloraxis",
          "opacity": 0.7,
          "symbol": "circle"
         },
         "mode": "markers",
         "name": "",
         "scene": "scene",
         "showlegend": false,
         "type": "scatter3d",
         "x": [
          0,
          0,
          0,
          0,
          0,
          0,
          0,
          0,
          0,
          0,
          0,
          0,
          0,
          0,
          0,
          0,
          0,
          0,
          0,
          7,
          0,
          0,
          1,
          0,
          0,
          0,
          1,
          0,
          0,
          0,
          0,
          0,
          0,
          0,
          0,
          0,
          0,
          1,
          0,
          2,
          0,
          1,
          0,
          0,
          0,
          0,
          0,
          0,
          0,
          0,
          0,
          0,
          0,
          0,
          0,
          0,
          0,
          1,
          0,
          3,
          0,
          0,
          0,
          0,
          0,
          0,
          0,
          2,
          0,
          0,
          0,
          0,
          0,
          0,
          0,
          0,
          2,
          0,
          0,
          0,
          1,
          1,
          0,
          2,
          0,
          0,
          3,
          0,
          0,
          0,
          0,
          0,
          0,
          0,
          0,
          0,
          0,
          0,
          1
         ],
         "y": [
          12617.114,
          27278.593,
          39941.64,
          23189.2165,
          33514.921,
          14863.527,
          39234.761,
          23069.417999999998,
          43893.0424,
          29462.324,
          41255.9471,
          7100.929,
          12636.094000000001,
          14296.148000000001,
          23933.328999999998,
          20865.1,
          34912.1605,
          9628.431,
          19780.466,
          6132.521000000001,
          28643.804,
          25597.57,
          20290.341,
          32291.4686,
          21796.702,
          23736.8515,
          5402.902,
          22780.1968,
          55719.21,
          29798.592999999997,
          24689.127,
          29886.886,
          18457.415,
          10582.807999999999,
          25957.257,
          24384.885,
          12130.728000000001,
          39083.79,
          8637.713,
          12766.847,
          10831.8255,
          36008.3686,
          35199.183,
          21249.714200000002,
          35200.424,
          24123.874,
          16799.7325,
          24643.5,
          16677.843,
          26970.751,
          19422.272,
          16116.461,
          15451.0502,
          29489.572,
          27601.018,
          29783.459,
          12864.395999999999,
          8173.226,
          40360.163,
          17494.635000000002,
          19831.158,
          14431.006000000001,
          17636.56,
          37543.7998,
          13444.071,
          32993.0458,
          28631.45,
          22703.8405,
          12942.6106,
          21195.178,
          31638.396,
          19231.6252,
          21383.063000000002,
          25444.999,
          12547.691200000001,
          20946.2124,
          6633.137,
          42904.167,
          18852.075,
          20154.0685,
          15649.149,
          18886.152000000002,
          15736.128999999999,
          12904.5314,
          25352.511,
          40326.344,
          23194.6402,
          23733.35,
          15882.995,
          35201.625,
          41220.4188,
          17567.2625,
          14420.619,
          21508.179,
          29483.005,
          22650.8206,
          23180.5442,
          33447.127,
          11065.0582
         ],
         "z": [
          67,
          153,
          105,
          134,
          137,
          100,
          149,
          92,
          176,
          151,
          132,
          39,
          80,
          90,
          105,
          86,
          151,
          50,
          96,
          22,
          81,
          161,
          118,
          142,
          62,
          131,
          53,
          121,
          134,
          123,
          108,
          142,
          88,
          60,
          102,
          99,
          76,
          111,
          52,
          62,
          97,
          170,
          116,
          64,
          134,
          95,
          120,
          70,
          100,
          122,
          94,
          44,
          101,
          132,
          86,
          135,
          70,
          48,
          110,
          79,
          98,
          63,
          71,
          156,
          66,
          143,
          126,
          83,
          51,
          110,
          143,
          81,
          115,
          119,
          67,
          154,
          39,
          192,
          101,
          102,
          56,
          90,
          49,
          56,
          106,
          184,
          135,
          88,
          83,
          116,
          105,
          77,
          68,
          115,
          103,
          70,
          98,
          103,
          84
         ]
        }
       ],
       "layout": {
        "coloraxis": {
         "colorbar": {
          "title": {
           "text": "label"
          }
         },
         "colorscale": [
          [
           0,
           "#0d0887"
          ],
          [
           0.1111111111111111,
           "#46039f"
          ],
          [
           0.2222222222222222,
           "#7201a8"
          ],
          [
           0.3333333333333333,
           "#9c179e"
          ],
          [
           0.4444444444444444,
           "#bd3786"
          ],
          [
           0.5555555555555556,
           "#d8576b"
          ],
          [
           0.6666666666666666,
           "#ed7953"
          ],
          [
           0.7777777777777778,
           "#fb9f3a"
          ],
          [
           0.8888888888888888,
           "#fdca26"
          ],
          [
           1,
           "#f0f921"
          ]
         ]
        },
        "legend": {
         "tracegroupgap": 0
        },
        "scene": {
         "domain": {
          "x": [
           0,
           1
          ],
          "y": [
           0,
           1
          ]
         },
         "xaxis": {
          "title": {
           "text": "Recency(Month)"
          }
         },
         "yaxis": {
          "title": {
           "text": "Monetary Values ($)"
          }
         },
         "zaxis": {
          "title": {
           "text": "Frequency"
          }
         }
        },
        "template": {
         "data": {
          "bar": [
           {
            "error_x": {
             "color": "#2a3f5f"
            },
            "error_y": {
             "color": "#2a3f5f"
            },
            "marker": {
             "line": {
              "color": "#E5ECF6",
              "width": 0.5
             },
             "pattern": {
              "fillmode": "overlay",
              "size": 10,
              "solidity": 0.2
             }
            },
            "type": "bar"
           }
          ],
          "barpolar": [
           {
            "marker": {
             "line": {
              "color": "#E5ECF6",
              "width": 0.5
             },
             "pattern": {
              "fillmode": "overlay",
              "size": 10,
              "solidity": 0.2
             }
            },
            "type": "barpolar"
           }
          ],
          "carpet": [
           {
            "aaxis": {
             "endlinecolor": "#2a3f5f",
             "gridcolor": "white",
             "linecolor": "white",
             "minorgridcolor": "white",
             "startlinecolor": "#2a3f5f"
            },
            "baxis": {
             "endlinecolor": "#2a3f5f",
             "gridcolor": "white",
             "linecolor": "white",
             "minorgridcolor": "white",
             "startlinecolor": "#2a3f5f"
            },
            "type": "carpet"
           }
          ],
          "choropleth": [
           {
            "colorbar": {
             "outlinewidth": 0,
             "ticks": ""
            },
            "type": "choropleth"
           }
          ],
          "contour": [
           {
            "colorbar": {
             "outlinewidth": 0,
             "ticks": ""
            },
            "colorscale": [
             [
              0,
              "#0d0887"
             ],
             [
              0.1111111111111111,
              "#46039f"
             ],
             [
              0.2222222222222222,
              "#7201a8"
             ],
             [
              0.3333333333333333,
              "#9c179e"
             ],
             [
              0.4444444444444444,
              "#bd3786"
             ],
             [
              0.5555555555555556,
              "#d8576b"
             ],
             [
              0.6666666666666666,
              "#ed7953"
             ],
             [
              0.7777777777777778,
              "#fb9f3a"
             ],
             [
              0.8888888888888888,
              "#fdca26"
             ],
             [
              1,
              "#f0f921"
             ]
            ],
            "type": "contour"
           }
          ],
          "contourcarpet": [
           {
            "colorbar": {
             "outlinewidth": 0,
             "ticks": ""
            },
            "type": "contourcarpet"
           }
          ],
          "heatmap": [
           {
            "colorbar": {
             "outlinewidth": 0,
             "ticks": ""
            },
            "colorscale": [
             [
              0,
              "#0d0887"
             ],
             [
              0.1111111111111111,
              "#46039f"
             ],
             [
              0.2222222222222222,
              "#7201a8"
             ],
             [
              0.3333333333333333,
              "#9c179e"
             ],
             [
              0.4444444444444444,
              "#bd3786"
             ],
             [
              0.5555555555555556,
              "#d8576b"
             ],
             [
              0.6666666666666666,
              "#ed7953"
             ],
             [
              0.7777777777777778,
              "#fb9f3a"
             ],
             [
              0.8888888888888888,
              "#fdca26"
             ],
             [
              1,
              "#f0f921"
             ]
            ],
            "type": "heatmap"
           }
          ],
          "heatmapgl": [
           {
            "colorbar": {
             "outlinewidth": 0,
             "ticks": ""
            },
            "colorscale": [
             [
              0,
              "#0d0887"
             ],
             [
              0.1111111111111111,
              "#46039f"
             ],
             [
              0.2222222222222222,
              "#7201a8"
             ],
             [
              0.3333333333333333,
              "#9c179e"
             ],
             [
              0.4444444444444444,
              "#bd3786"
             ],
             [
              0.5555555555555556,
              "#d8576b"
             ],
             [
              0.6666666666666666,
              "#ed7953"
             ],
             [
              0.7777777777777778,
              "#fb9f3a"
             ],
             [
              0.8888888888888888,
              "#fdca26"
             ],
             [
              1,
              "#f0f921"
             ]
            ],
            "type": "heatmapgl"
           }
          ],
          "histogram": [
           {
            "marker": {
             "pattern": {
              "fillmode": "overlay",
              "size": 10,
              "solidity": 0.2
             }
            },
            "type": "histogram"
           }
          ],
          "histogram2d": [
           {
            "colorbar": {
             "outlinewidth": 0,
             "ticks": ""
            },
            "colorscale": [
             [
              0,
              "#0d0887"
             ],
             [
              0.1111111111111111,
              "#46039f"
             ],
             [
              0.2222222222222222,
              "#7201a8"
             ],
             [
              0.3333333333333333,
              "#9c179e"
             ],
             [
              0.4444444444444444,
              "#bd3786"
             ],
             [
              0.5555555555555556,
              "#d8576b"
             ],
             [
              0.6666666666666666,
              "#ed7953"
             ],
             [
              0.7777777777777778,
              "#fb9f3a"
             ],
             [
              0.8888888888888888,
              "#fdca26"
             ],
             [
              1,
              "#f0f921"
             ]
            ],
            "type": "histogram2d"
           }
          ],
          "histogram2dcontour": [
           {
            "colorbar": {
             "outlinewidth": 0,
             "ticks": ""
            },
            "colorscale": [
             [
              0,
              "#0d0887"
             ],
             [
              0.1111111111111111,
              "#46039f"
             ],
             [
              0.2222222222222222,
              "#7201a8"
             ],
             [
              0.3333333333333333,
              "#9c179e"
             ],
             [
              0.4444444444444444,
              "#bd3786"
             ],
             [
              0.5555555555555556,
              "#d8576b"
             ],
             [
              0.6666666666666666,
              "#ed7953"
             ],
             [
              0.7777777777777778,
              "#fb9f3a"
             ],
             [
              0.8888888888888888,
              "#fdca26"
             ],
             [
              1,
              "#f0f921"
             ]
            ],
            "type": "histogram2dcontour"
           }
          ],
          "mesh3d": [
           {
            "colorbar": {
             "outlinewidth": 0,
             "ticks": ""
            },
            "type": "mesh3d"
           }
          ],
          "parcoords": [
           {
            "line": {
             "colorbar": {
              "outlinewidth": 0,
              "ticks": ""
             }
            },
            "type": "parcoords"
           }
          ],
          "pie": [
           {
            "automargin": true,
            "type": "pie"
           }
          ],
          "scatter": [
           {
            "fillpattern": {
             "fillmode": "overlay",
             "size": 10,
             "solidity": 0.2
            },
            "type": "scatter"
           }
          ],
          "scatter3d": [
           {
            "line": {
             "colorbar": {
              "outlinewidth": 0,
              "ticks": ""
             }
            },
            "marker": {
             "colorbar": {
              "outlinewidth": 0,
              "ticks": ""
             }
            },
            "type": "scatter3d"
           }
          ],
          "scattercarpet": [
           {
            "marker": {
             "colorbar": {
              "outlinewidth": 0,
              "ticks": ""
             }
            },
            "type": "scattercarpet"
           }
          ],
          "scattergeo": [
           {
            "marker": {
             "colorbar": {
              "outlinewidth": 0,
              "ticks": ""
             }
            },
            "type": "scattergeo"
           }
          ],
          "scattergl": [
           {
            "marker": {
             "colorbar": {
              "outlinewidth": 0,
              "ticks": ""
             }
            },
            "type": "scattergl"
           }
          ],
          "scattermapbox": [
           {
            "marker": {
             "colorbar": {
              "outlinewidth": 0,
              "ticks": ""
             }
            },
            "type": "scattermapbox"
           }
          ],
          "scatterpolar": [
           {
            "marker": {
             "colorbar": {
              "outlinewidth": 0,
              "ticks": ""
             }
            },
            "type": "scatterpolar"
           }
          ],
          "scatterpolargl": [
           {
            "marker": {
             "colorbar": {
              "outlinewidth": 0,
              "ticks": ""
             }
            },
            "type": "scatterpolargl"
           }
          ],
          "scatterternary": [
           {
            "marker": {
             "colorbar": {
              "outlinewidth": 0,
              "ticks": ""
             }
            },
            "type": "scatterternary"
           }
          ],
          "surface": [
           {
            "colorbar": {
             "outlinewidth": 0,
             "ticks": ""
            },
            "colorscale": [
             [
              0,
              "#0d0887"
             ],
             [
              0.1111111111111111,
              "#46039f"
             ],
             [
              0.2222222222222222,
              "#7201a8"
             ],
             [
              0.3333333333333333,
              "#9c179e"
             ],
             [
              0.4444444444444444,
              "#bd3786"
             ],
             [
              0.5555555555555556,
              "#d8576b"
             ],
             [
              0.6666666666666666,
              "#ed7953"
             ],
             [
              0.7777777777777778,
              "#fb9f3a"
             ],
             [
              0.8888888888888888,
              "#fdca26"
             ],
             [
              1,
              "#f0f921"
             ]
            ],
            "type": "surface"
           }
          ],
          "table": [
           {
            "cells": {
             "fill": {
              "color": "#EBF0F8"
             },
             "line": {
              "color": "white"
             }
            },
            "header": {
             "fill": {
              "color": "#C8D4E3"
             },
             "line": {
              "color": "white"
             }
            },
            "type": "table"
           }
          ]
         },
         "layout": {
          "annotationdefaults": {
           "arrowcolor": "#2a3f5f",
           "arrowhead": 0,
           "arrowwidth": 1
          },
          "autotypenumbers": "strict",
          "coloraxis": {
           "colorbar": {
            "outlinewidth": 0,
            "ticks": ""
           }
          },
          "colorscale": {
           "diverging": [
            [
             0,
             "#8e0152"
            ],
            [
             0.1,
             "#c51b7d"
            ],
            [
             0.2,
             "#de77ae"
            ],
            [
             0.3,
             "#f1b6da"
            ],
            [
             0.4,
             "#fde0ef"
            ],
            [
             0.5,
             "#f7f7f7"
            ],
            [
             0.6,
             "#e6f5d0"
            ],
            [
             0.7,
             "#b8e186"
            ],
            [
             0.8,
             "#7fbc41"
            ],
            [
             0.9,
             "#4d9221"
            ],
            [
             1,
             "#276419"
            ]
           ],
           "sequential": [
            [
             0,
             "#0d0887"
            ],
            [
             0.1111111111111111,
             "#46039f"
            ],
            [
             0.2222222222222222,
             "#7201a8"
            ],
            [
             0.3333333333333333,
             "#9c179e"
            ],
            [
             0.4444444444444444,
             "#bd3786"
            ],
            [
             0.5555555555555556,
             "#d8576b"
            ],
            [
             0.6666666666666666,
             "#ed7953"
            ],
            [
             0.7777777777777778,
             "#fb9f3a"
            ],
            [
             0.8888888888888888,
             "#fdca26"
            ],
            [
             1,
             "#f0f921"
            ]
           ],
           "sequentialminus": [
            [
             0,
             "#0d0887"
            ],
            [
             0.1111111111111111,
             "#46039f"
            ],
            [
             0.2222222222222222,
             "#7201a8"
            ],
            [
             0.3333333333333333,
             "#9c179e"
            ],
            [
             0.4444444444444444,
             "#bd3786"
            ],
            [
             0.5555555555555556,
             "#d8576b"
            ],
            [
             0.6666666666666666,
             "#ed7953"
            ],
            [
             0.7777777777777778,
             "#fb9f3a"
            ],
            [
             0.8888888888888888,
             "#fdca26"
            ],
            [
             1,
             "#f0f921"
            ]
           ]
          },
          "colorway": [
           "#636efa",
           "#EF553B",
           "#00cc96",
           "#ab63fa",
           "#FFA15A",
           "#19d3f3",
           "#FF6692",
           "#B6E880",
           "#FF97FF",
           "#FECB52"
          ],
          "font": {
           "color": "#2a3f5f"
          },
          "geo": {
           "bgcolor": "white",
           "lakecolor": "white",
           "landcolor": "#E5ECF6",
           "showlakes": true,
           "showland": true,
           "subunitcolor": "white"
          },
          "hoverlabel": {
           "align": "left"
          },
          "hovermode": "closest",
          "mapbox": {
           "style": "light"
          },
          "paper_bgcolor": "white",
          "plot_bgcolor": "#E5ECF6",
          "polar": {
           "angularaxis": {
            "gridcolor": "white",
            "linecolor": "white",
            "ticks": ""
           },
           "bgcolor": "#E5ECF6",
           "radialaxis": {
            "gridcolor": "white",
            "linecolor": "white",
            "ticks": ""
           }
          },
          "scene": {
           "xaxis": {
            "backgroundcolor": "#E5ECF6",
            "gridcolor": "white",
            "gridwidth": 2,
            "linecolor": "white",
            "showbackground": true,
            "ticks": "",
            "zerolinecolor": "white"
           },
           "yaxis": {
            "backgroundcolor": "#E5ECF6",
            "gridcolor": "white",
            "gridwidth": 2,
            "linecolor": "white",
            "showbackground": true,
            "ticks": "",
            "zerolinecolor": "white"
           },
           "zaxis": {
            "backgroundcolor": "#E5ECF6",
            "gridcolor": "white",
            "gridwidth": 2,
            "linecolor": "white",
            "showbackground": true,
            "ticks": "",
            "zerolinecolor": "white"
           }
          },
          "shapedefaults": {
           "line": {
            "color": "#2a3f5f"
           }
          },
          "ternary": {
           "aaxis": {
            "gridcolor": "white",
            "linecolor": "white",
            "ticks": ""
           },
           "baxis": {
            "gridcolor": "white",
            "linecolor": "white",
            "ticks": ""
           },
           "bgcolor": "#E5ECF6",
           "caxis": {
            "gridcolor": "white",
            "linecolor": "white",
            "ticks": ""
           }
          },
          "title": {
           "x": 0.05
          },
          "xaxis": {
           "automargin": true,
           "gridcolor": "white",
           "linecolor": "white",
           "ticks": "",
           "title": {
            "standoff": 15
           },
           "zerolinecolor": "white",
           "zerolinewidth": 2
          },
          "yaxis": {
           "automargin": true,
           "gridcolor": "white",
           "linecolor": "white",
           "ticks": "",
           "title": {
            "standoff": 15
           },
           "zerolinecolor": "white",
           "zerolinewidth": 2
          }
         }
        },
        "title": {
         "text": "AWS Customer RFM Segmentation Scatter Plot"
        }
       }
      },
      "text/html": [
       "<div>                            <div id=\"bf404d9b-3ed1-430c-8b5a-2376485c2a50\" class=\"plotly-graph-div\" style=\"height:525px; width:100%;\"></div>            <script type=\"text/javascript\">                require([\"plotly\"], function(Plotly) {                    window.PLOTLYENV=window.PLOTLYENV || {};                                    if (document.getElementById(\"bf404d9b-3ed1-430c-8b5a-2376485c2a50\")) {                    Plotly.newPlot(                        \"bf404d9b-3ed1-430c-8b5a-2376485c2a50\",                        [{\"hovertemplate\":\"Rec=%{x}<br>Mon=%{y}<br>Freq=%{z}<br>label=%{marker.color}<extra></extra>\",\"legendgroup\":\"\",\"marker\":{\"color\":[5,1,1,2,1,5,1,5,1,1,1,5,5,5,1,5,1,5,5,8,3,1,6,1,5,1,8,2,1,1,1,1,5,5,1,3,5,4,5,8,5,4,1,5,1,3,2,3,5,1,5,5,2,1,3,1,5,8,1,8,5,5,5,1,5,1,1,8,5,2,1,5,2,1,5,2,8,1,2,2,8,8,5,8,1,1,6,3,5,1,1,5,5,2,1,5,5,1,8],\"coloraxis\":\"coloraxis\",\"opacity\":0.7,\"symbol\":\"circle\"},\"mode\":\"markers\",\"name\":\"\",\"scene\":\"scene\",\"showlegend\":false,\"x\":[0,0,0,0,0,0,0,0,0,0,0,0,0,0,0,0,0,0,0,7,0,0,1,0,0,0,1,0,0,0,0,0,0,0,0,0,0,1,0,2,0,1,0,0,0,0,0,0,0,0,0,0,0,0,0,0,0,1,0,3,0,0,0,0,0,0,0,2,0,0,0,0,0,0,0,0,2,0,0,0,1,1,0,2,0,0,3,0,0,0,0,0,0,0,0,0,0,0,1],\"y\":[12617.114,27278.593,39941.64,23189.2165,33514.921,14863.527,39234.761,23069.417999999998,43893.0424,29462.324,41255.9471,7100.929,12636.094000000001,14296.148000000001,23933.328999999998,20865.1,34912.1605,9628.431,19780.466,6132.521000000001,28643.804,25597.57,20290.341,32291.4686,21796.702,23736.8515,5402.902,22780.1968,55719.21,29798.592999999997,24689.127,29886.886,18457.415,10582.807999999999,25957.257,24384.885,12130.728000000001,39083.79,8637.713,12766.847,10831.8255,36008.3686,35199.183,21249.714200000002,35200.424,24123.874,16799.7325,24643.5,16677.843,26970.751,19422.272,16116.461,15451.0502,29489.572,27601.018,29783.459,12864.395999999999,8173.226,40360.163,17494.635000000002,19831.158,14431.006000000001,17636.56,37543.7998,13444.071,32993.0458,28631.45,22703.8405,12942.6106,21195.178,31638.396,19231.6252,21383.063000000002,25444.999,12547.691200000001,20946.2124,6633.137,42904.167,18852.075,20154.0685,15649.149,18886.152000000002,15736.128999999999,12904.5314,25352.511,40326.344,23194.6402,23733.35,15882.995,35201.625,41220.4188,17567.2625,14420.619,21508.179,29483.005,22650.8206,23180.5442,33447.127,11065.0582],\"z\":[67,153,105,134,137,100,149,92,176,151,132,39,80,90,105,86,151,50,96,22,81,161,118,142,62,131,53,121,134,123,108,142,88,60,102,99,76,111,52,62,97,170,116,64,134,95,120,70,100,122,94,44,101,132,86,135,70,48,110,79,98,63,71,156,66,143,126,83,51,110,143,81,115,119,67,154,39,192,101,102,56,90,49,56,106,184,135,88,83,116,105,77,68,115,103,70,98,103,84],\"type\":\"scatter3d\"}],                        {\"template\":{\"data\":{\"histogram2dcontour\":[{\"type\":\"histogram2dcontour\",\"colorbar\":{\"outlinewidth\":0,\"ticks\":\"\"},\"colorscale\":[[0.0,\"#0d0887\"],[0.1111111111111111,\"#46039f\"],[0.2222222222222222,\"#7201a8\"],[0.3333333333333333,\"#9c179e\"],[0.4444444444444444,\"#bd3786\"],[0.5555555555555556,\"#d8576b\"],[0.6666666666666666,\"#ed7953\"],[0.7777777777777778,\"#fb9f3a\"],[0.8888888888888888,\"#fdca26\"],[1.0,\"#f0f921\"]]}],\"choropleth\":[{\"type\":\"choropleth\",\"colorbar\":{\"outlinewidth\":0,\"ticks\":\"\"}}],\"histogram2d\":[{\"type\":\"histogram2d\",\"colorbar\":{\"outlinewidth\":0,\"ticks\":\"\"},\"colorscale\":[[0.0,\"#0d0887\"],[0.1111111111111111,\"#46039f\"],[0.2222222222222222,\"#7201a8\"],[0.3333333333333333,\"#9c179e\"],[0.4444444444444444,\"#bd3786\"],[0.5555555555555556,\"#d8576b\"],[0.6666666666666666,\"#ed7953\"],[0.7777777777777778,\"#fb9f3a\"],[0.8888888888888888,\"#fdca26\"],[1.0,\"#f0f921\"]]}],\"heatmap\":[{\"type\":\"heatmap\",\"colorbar\":{\"outlinewidth\":0,\"ticks\":\"\"},\"colorscale\":[[0.0,\"#0d0887\"],[0.1111111111111111,\"#46039f\"],[0.2222222222222222,\"#7201a8\"],[0.3333333333333333,\"#9c179e\"],[0.4444444444444444,\"#bd3786\"],[0.5555555555555556,\"#d8576b\"],[0.6666666666666666,\"#ed7953\"],[0.7777777777777778,\"#fb9f3a\"],[0.8888888888888888,\"#fdca26\"],[1.0,\"#f0f921\"]]}],\"heatmapgl\":[{\"type\":\"heatmapgl\",\"colorbar\":{\"outlinewidth\":0,\"ticks\":\"\"},\"colorscale\":[[0.0,\"#0d0887\"],[0.1111111111111111,\"#46039f\"],[0.2222222222222222,\"#7201a8\"],[0.3333333333333333,\"#9c179e\"],[0.4444444444444444,\"#bd3786\"],[0.5555555555555556,\"#d8576b\"],[0.6666666666666666,\"#ed7953\"],[0.7777777777777778,\"#fb9f3a\"],[0.8888888888888888,\"#fdca26\"],[1.0,\"#f0f921\"]]}],\"contourcarpet\":[{\"type\":\"contourcarpet\",\"colorbar\":{\"outlinewidth\":0,\"ticks\":\"\"}}],\"contour\":[{\"type\":\"contour\",\"colorbar\":{\"outlinewidth\":0,\"ticks\":\"\"},\"colorscale\":[[0.0,\"#0d0887\"],[0.1111111111111111,\"#46039f\"],[0.2222222222222222,\"#7201a8\"],[0.3333333333333333,\"#9c179e\"],[0.4444444444444444,\"#bd3786\"],[0.5555555555555556,\"#d8576b\"],[0.6666666666666666,\"#ed7953\"],[0.7777777777777778,\"#fb9f3a\"],[0.8888888888888888,\"#fdca26\"],[1.0,\"#f0f921\"]]}],\"surface\":[{\"type\":\"surface\",\"colorbar\":{\"outlinewidth\":0,\"ticks\":\"\"},\"colorscale\":[[0.0,\"#0d0887\"],[0.1111111111111111,\"#46039f\"],[0.2222222222222222,\"#7201a8\"],[0.3333333333333333,\"#9c179e\"],[0.4444444444444444,\"#bd3786\"],[0.5555555555555556,\"#d8576b\"],[0.6666666666666666,\"#ed7953\"],[0.7777777777777778,\"#fb9f3a\"],[0.8888888888888888,\"#fdca26\"],[1.0,\"#f0f921\"]]}],\"mesh3d\":[{\"type\":\"mesh3d\",\"colorbar\":{\"outlinewidth\":0,\"ticks\":\"\"}}],\"scatter\":[{\"fillpattern\":{\"fillmode\":\"overlay\",\"size\":10,\"solidity\":0.2},\"type\":\"scatter\"}],\"parcoords\":[{\"type\":\"parcoords\",\"line\":{\"colorbar\":{\"outlinewidth\":0,\"ticks\":\"\"}}}],\"scatterpolargl\":[{\"type\":\"scatterpolargl\",\"marker\":{\"colorbar\":{\"outlinewidth\":0,\"ticks\":\"\"}}}],\"bar\":[{\"error_x\":{\"color\":\"#2a3f5f\"},\"error_y\":{\"color\":\"#2a3f5f\"},\"marker\":{\"line\":{\"color\":\"#E5ECF6\",\"width\":0.5},\"pattern\":{\"fillmode\":\"overlay\",\"size\":10,\"solidity\":0.2}},\"type\":\"bar\"}],\"scattergeo\":[{\"type\":\"scattergeo\",\"marker\":{\"colorbar\":{\"outlinewidth\":0,\"ticks\":\"\"}}}],\"scatterpolar\":[{\"type\":\"scatterpolar\",\"marker\":{\"colorbar\":{\"outlinewidth\":0,\"ticks\":\"\"}}}],\"histogram\":[{\"marker\":{\"pattern\":{\"fillmode\":\"overlay\",\"size\":10,\"solidity\":0.2}},\"type\":\"histogram\"}],\"scattergl\":[{\"type\":\"scattergl\",\"marker\":{\"colorbar\":{\"outlinewidth\":0,\"ticks\":\"\"}}}],\"scatter3d\":[{\"type\":\"scatter3d\",\"line\":{\"colorbar\":{\"outlinewidth\":0,\"ticks\":\"\"}},\"marker\":{\"colorbar\":{\"outlinewidth\":0,\"ticks\":\"\"}}}],\"scattermapbox\":[{\"type\":\"scattermapbox\",\"marker\":{\"colorbar\":{\"outlinewidth\":0,\"ticks\":\"\"}}}],\"scatterternary\":[{\"type\":\"scatterternary\",\"marker\":{\"colorbar\":{\"outlinewidth\":0,\"ticks\":\"\"}}}],\"scattercarpet\":[{\"type\":\"scattercarpet\",\"marker\":{\"colorbar\":{\"outlinewidth\":0,\"ticks\":\"\"}}}],\"carpet\":[{\"aaxis\":{\"endlinecolor\":\"#2a3f5f\",\"gridcolor\":\"white\",\"linecolor\":\"white\",\"minorgridcolor\":\"white\",\"startlinecolor\":\"#2a3f5f\"},\"baxis\":{\"endlinecolor\":\"#2a3f5f\",\"gridcolor\":\"white\",\"linecolor\":\"white\",\"minorgridcolor\":\"white\",\"startlinecolor\":\"#2a3f5f\"},\"type\":\"carpet\"}],\"table\":[{\"cells\":{\"fill\":{\"color\":\"#EBF0F8\"},\"line\":{\"color\":\"white\"}},\"header\":{\"fill\":{\"color\":\"#C8D4E3\"},\"line\":{\"color\":\"white\"}},\"type\":\"table\"}],\"barpolar\":[{\"marker\":{\"line\":{\"color\":\"#E5ECF6\",\"width\":0.5},\"pattern\":{\"fillmode\":\"overlay\",\"size\":10,\"solidity\":0.2}},\"type\":\"barpolar\"}],\"pie\":[{\"automargin\":true,\"type\":\"pie\"}]},\"layout\":{\"autotypenumbers\":\"strict\",\"colorway\":[\"#636efa\",\"#EF553B\",\"#00cc96\",\"#ab63fa\",\"#FFA15A\",\"#19d3f3\",\"#FF6692\",\"#B6E880\",\"#FF97FF\",\"#FECB52\"],\"font\":{\"color\":\"#2a3f5f\"},\"hovermode\":\"closest\",\"hoverlabel\":{\"align\":\"left\"},\"paper_bgcolor\":\"white\",\"plot_bgcolor\":\"#E5ECF6\",\"polar\":{\"bgcolor\":\"#E5ECF6\",\"angularaxis\":{\"gridcolor\":\"white\",\"linecolor\":\"white\",\"ticks\":\"\"},\"radialaxis\":{\"gridcolor\":\"white\",\"linecolor\":\"white\",\"ticks\":\"\"}},\"ternary\":{\"bgcolor\":\"#E5ECF6\",\"aaxis\":{\"gridcolor\":\"white\",\"linecolor\":\"white\",\"ticks\":\"\"},\"baxis\":{\"gridcolor\":\"white\",\"linecolor\":\"white\",\"ticks\":\"\"},\"caxis\":{\"gridcolor\":\"white\",\"linecolor\":\"white\",\"ticks\":\"\"}},\"coloraxis\":{\"colorbar\":{\"outlinewidth\":0,\"ticks\":\"\"}},\"colorscale\":{\"sequential\":[[0.0,\"#0d0887\"],[0.1111111111111111,\"#46039f\"],[0.2222222222222222,\"#7201a8\"],[0.3333333333333333,\"#9c179e\"],[0.4444444444444444,\"#bd3786\"],[0.5555555555555556,\"#d8576b\"],[0.6666666666666666,\"#ed7953\"],[0.7777777777777778,\"#fb9f3a\"],[0.8888888888888888,\"#fdca26\"],[1.0,\"#f0f921\"]],\"sequentialminus\":[[0.0,\"#0d0887\"],[0.1111111111111111,\"#46039f\"],[0.2222222222222222,\"#7201a8\"],[0.3333333333333333,\"#9c179e\"],[0.4444444444444444,\"#bd3786\"],[0.5555555555555556,\"#d8576b\"],[0.6666666666666666,\"#ed7953\"],[0.7777777777777778,\"#fb9f3a\"],[0.8888888888888888,\"#fdca26\"],[1.0,\"#f0f921\"]],\"diverging\":[[0,\"#8e0152\"],[0.1,\"#c51b7d\"],[0.2,\"#de77ae\"],[0.3,\"#f1b6da\"],[0.4,\"#fde0ef\"],[0.5,\"#f7f7f7\"],[0.6,\"#e6f5d0\"],[0.7,\"#b8e186\"],[0.8,\"#7fbc41\"],[0.9,\"#4d9221\"],[1,\"#276419\"]]},\"xaxis\":{\"gridcolor\":\"white\",\"linecolor\":\"white\",\"ticks\":\"\",\"title\":{\"standoff\":15},\"zerolinecolor\":\"white\",\"automargin\":true,\"zerolinewidth\":2},\"yaxis\":{\"gridcolor\":\"white\",\"linecolor\":\"white\",\"ticks\":\"\",\"title\":{\"standoff\":15},\"zerolinecolor\":\"white\",\"automargin\":true,\"zerolinewidth\":2},\"scene\":{\"xaxis\":{\"backgroundcolor\":\"#E5ECF6\",\"gridcolor\":\"white\",\"linecolor\":\"white\",\"showbackground\":true,\"ticks\":\"\",\"zerolinecolor\":\"white\",\"gridwidth\":2},\"yaxis\":{\"backgroundcolor\":\"#E5ECF6\",\"gridcolor\":\"white\",\"linecolor\":\"white\",\"showbackground\":true,\"ticks\":\"\",\"zerolinecolor\":\"white\",\"gridwidth\":2},\"zaxis\":{\"backgroundcolor\":\"#E5ECF6\",\"gridcolor\":\"white\",\"linecolor\":\"white\",\"showbackground\":true,\"ticks\":\"\",\"zerolinecolor\":\"white\",\"gridwidth\":2}},\"shapedefaults\":{\"line\":{\"color\":\"#2a3f5f\"}},\"annotationdefaults\":{\"arrowcolor\":\"#2a3f5f\",\"arrowhead\":0,\"arrowwidth\":1},\"geo\":{\"bgcolor\":\"white\",\"landcolor\":\"#E5ECF6\",\"subunitcolor\":\"white\",\"showland\":true,\"showlakes\":true,\"lakecolor\":\"white\"},\"title\":{\"x\":0.05},\"mapbox\":{\"style\":\"light\"}}},\"scene\":{\"domain\":{\"x\":[0.0,1.0],\"y\":[0.0,1.0]},\"xaxis\":{\"title\":{\"text\":\"Recency(Month)\"}},\"yaxis\":{\"title\":{\"text\":\"Monetary Values ($)\"}},\"zaxis\":{\"title\":{\"text\":\"Frequency\"}}},\"coloraxis\":{\"colorbar\":{\"title\":{\"text\":\"label\"}},\"colorscale\":[[0.0,\"#0d0887\"],[0.1111111111111111,\"#46039f\"],[0.2222222222222222,\"#7201a8\"],[0.3333333333333333,\"#9c179e\"],[0.4444444444444444,\"#bd3786\"],[0.5555555555555556,\"#d8576b\"],[0.6666666666666666,\"#ed7953\"],[0.7777777777777778,\"#fb9f3a\"],[0.8888888888888888,\"#fdca26\"],[1.0,\"#f0f921\"]]},\"legend\":{\"tracegroupgap\":0},\"title\":{\"text\":\"AWS Customer RFM Segmentation Scatter Plot\"}},                        {\"responsive\": true}                    ).then(function(){\n",
       "                            \n",
       "var gd = document.getElementById('bf404d9b-3ed1-430c-8b5a-2376485c2a50');\n",
       "var x = new MutationObserver(function (mutations, observer) {{\n",
       "        var display = window.getComputedStyle(gd).display;\n",
       "        if (!display || display === 'none') {{\n",
       "            console.log([gd, 'removed!']);\n",
       "            Plotly.purge(gd);\n",
       "            observer.disconnect();\n",
       "        }}\n",
       "}});\n",
       "\n",
       "// Listen for the removal of the full notebook cells\n",
       "var notebookContainer = gd.closest('#notebook-container');\n",
       "if (notebookContainer) {{\n",
       "    x.observe(notebookContainer, {childList: true});\n",
       "}}\n",
       "\n",
       "// Listen for the clearing of the current output cell\n",
       "var outputEl = gd.closest('.output');\n",
       "if (outputEl) {{\n",
       "    x.observe(outputEl, {childList: true});\n",
       "}}\n",
       "\n",
       "                        })                };                });            </script>        </div>"
      ]
     },
     "metadata": {},
     "output_type": "display_data"
    },
    {
     "data": {
      "text/plain": [
       "<Figure size 1800x600 with 0 Axes>"
      ]
     },
     "metadata": {},
     "output_type": "display_data"
    }
   ],
   "source": [
    "plt.figure(figsize=(18, 6))\n",
    "fig = px.scatter_3d(dfR, x='Rec', y='Mon', z='Freq', color='label', opacity=0.7,\n",
    "                     title='AWS Customer RFM Segmentation Scatter Plot')\n",
    "fig.update_layout(scene=dict(xaxis_title='Recency(Month)', yaxis_title='Monetary Values ($)', zaxis_title='Frequency'))\n",
    "fig.show()\n"
   ]
  },
  {
   "cell_type": "code",
   "execution_count": 19,
   "metadata": {},
   "outputs": [
    {
     "data": {
      "text/html": [
       "<div>\n",
       "<style scoped>\n",
       "    .dataframe tbody tr th:only-of-type {\n",
       "        vertical-align: middle;\n",
       "    }\n",
       "\n",
       "    .dataframe tbody tr th {\n",
       "        vertical-align: top;\n",
       "    }\n",
       "\n",
       "    .dataframe thead th {\n",
       "        text-align: right;\n",
       "    }\n",
       "</style>\n",
       "<table border=\"1\" class=\"dataframe\">\n",
       "  <thead>\n",
       "    <tr style=\"text-align: right;\">\n",
       "      <th></th>\n",
       "      <th>RecG</th>\n",
       "      <th>FreqG</th>\n",
       "      <th>MonG</th>\n",
       "      <th>count</th>\n",
       "    </tr>\n",
       "    <tr>\n",
       "      <th>label</th>\n",
       "      <th></th>\n",
       "      <th></th>\n",
       "      <th></th>\n",
       "      <th></th>\n",
       "    </tr>\n",
       "  </thead>\n",
       "  <tbody>\n",
       "    <tr>\n",
       "      <th>1</th>\n",
       "      <td>1</td>\n",
       "      <td>1</td>\n",
       "      <td>1</td>\n",
       "      <td>35</td>\n",
       "    </tr>\n",
       "    <tr>\n",
       "      <th>5</th>\n",
       "      <td>1</td>\n",
       "      <td>0</td>\n",
       "      <td>0</td>\n",
       "      <td>33</td>\n",
       "    </tr>\n",
       "    <tr>\n",
       "      <th>8</th>\n",
       "      <td>0</td>\n",
       "      <td>0</td>\n",
       "      <td>0</td>\n",
       "      <td>11</td>\n",
       "    </tr>\n",
       "    <tr>\n",
       "      <th>2</th>\n",
       "      <td>1</td>\n",
       "      <td>1</td>\n",
       "      <td>0</td>\n",
       "      <td>10</td>\n",
       "    </tr>\n",
       "    <tr>\n",
       "      <th>3</th>\n",
       "      <td>1</td>\n",
       "      <td>0</td>\n",
       "      <td>1</td>\n",
       "      <td>6</td>\n",
       "    </tr>\n",
       "    <tr>\n",
       "      <th>4</th>\n",
       "      <td>0</td>\n",
       "      <td>1</td>\n",
       "      <td>1</td>\n",
       "      <td>2</td>\n",
       "    </tr>\n",
       "    <tr>\n",
       "      <th>6</th>\n",
       "      <td>0</td>\n",
       "      <td>1</td>\n",
       "      <td>0</td>\n",
       "      <td>2</td>\n",
       "    </tr>\n",
       "  </tbody>\n",
       "</table>\n",
       "</div>"
      ],
      "text/plain": [
       "       RecG  FreqG  MonG  count\n",
       "label                          \n",
       "1         1      1     1     35\n",
       "5         1      0     0     33\n",
       "8         0      0     0     11\n",
       "2         1      1     0     10\n",
       "3         1      0     1      6\n",
       "4         0      1     1      2\n",
       "6         0      1     0      2"
      ]
     },
     "execution_count": 19,
     "metadata": {},
     "output_type": "execute_result"
    }
   ],
   "source": [
    "dfC=dfR.groupby('label').agg({'RecG' : 'max', 'FreqG' : 'max', 'MonG' : 'max', 'label' : 'count'})\n",
    "dfC=dfC.rename(columns={'label' : 'count'}).sort_values(by='count', ascending=False)\n",
    "dfC"
   ]
  },
  {
   "cell_type": "code",
   "execution_count": 22,
   "metadata": {},
   "outputs": [
    {
     "data": {
      "image/png": "[encoded data removed]",
      "text/plain": [
       "<Figure size 1400x700 with 1 Axes>"
      ]
     },
     "metadata": {},
     "output_type": "display_data"
    }
   ],
   "source": [
    "plot=dfC\n",
    "plt.figure(figsize=(14,7))\n",
    "ax=sns.barplot(data=plot, x='label', y='count', hue='label')\n",
    "\n",
    "ax.set_xlabel('RFM Segments')\n",
    "ax.set_ylabel('Number of Customer')\n",
    "ax.set_title('Count of RFM Segmentation', fontsize=14, fontweight='bold')\n",
    "\n",
    "\n",
    "for bar in ax.patches:\n",
    "    height = bar.get_height()\n",
    "    ax.text(bar.get_x() + bar.get_width() / 2, height + 0.5, f'{height:.0f}',\n",
    "            ha='center', va='bottom', fontsize=10)\n",
    "\n",
    "\n",
    "plt.show()"
   ]
  },
  {
   "cell_type": "markdown",
   "metadata": {},
   "source": []
  },
  {
   "cell_type": "markdown",
   "metadata": {},
   "source": [
    "## Kesimpulan\n",
    "\n",
    "\n",
    "Secara keseluruhan, pelanggan AWS Amazon masih dapat dikategorikan sebagai aktif, ditandai dengan nilai recency yang rendah. Namun, mereka masih tergolong kurang dalam hal frekuensi dan nilai moneter transaksi.\n",
    "\n",
    "dari hasil segmentasi, terdapat tiga segmen pelanggan yang dapat diutamakan berdasarkan ukuran mereka.\n",
    "\n",
    "berikut adalah Karakteristik, behavior & insight yang dapat di ambil dari tiap segment\n",
    "\n",
    "\n",
    "#### Segmen Pelanggan Ideal (35/99 Total Pelanggan)\n",
    "\n",
    "- Karakteristik:\n",
    "\n",
    "1. Recency: Rendah (baru-baru ini melakukan pembelian).\n",
    "2. Frequency: Tinggi (sering melakukan pembelian).\n",
    "3. Monetary: Tinggi (berkontribusi banyak ke pemasukan bisnis).\n",
    "\n",
    "- Kondisi:\n",
    "\n",
    "1. Pelanggan dalam segmen ini dianggap paling berharga karena mereka sering membeli produk dan kontribusi jumlah uang yang signifikan.\n",
    "2. Mereka menunjukkan loyalitas tinggi dan memiliki potensi untuk memberikan pendapatan yang berkelanjutan bagi perusahaan.\n",
    "\n",
    "#### Segmen Active, Jarang Bertransaksi  (33/99 Total Pelanggan)\n",
    "\n",
    "- Karakteristik:\n",
    "\n",
    "1. Recency: Rendah (baru-baru ini melakukan pembelian).\n",
    "2. Frequency: Rendah (jarang melakukan pembelian).\n",
    "3. Monetary: Rendah (berkontribusi sedikit pemasukan bisnis).\n",
    "\n",
    "- Kondisi:\n",
    "\n",
    "1. Pelanggan berada di segmen ini, menunjukkan bahwa mereka belum memberikan kontribusi signifikan terhadap pendapatan.\n",
    "2. Pelanggan dalam kelompok ini mungkin kurang terlibat atau merasa kurang terhubung dengan platform/produk yang ditawarkan.\n",
    "\n",
    "#### Segmen Resiko Churn (11/99 Total Pelanggan)\n",
    "\n",
    "- Karakteristik:\n",
    "\n",
    "1. Recency: Tinggi (lama melakukan pembelian).\n",
    "2. Frequency: Rendah (jarang melakukan pembelian).\n",
    "3. Monetary: Rendah (berkontribusi sedikit pemasukan bisnis).\n",
    "\n",
    "- Kondisi:\n",
    "\n",
    "1. Pelanggan dalam segmen ini berisiko tinggi untuk berhenti menjadi pelanggan atau churn.\n",
    "2. Mereka telah lama tidak melakukan pembelian, menunjukkan kemungkinan minat atau kebutuhan mereka terhadap produk/layanan menurun.\n",
    "3. Frekuensi dan nilai moneter yang rendah menunjukkan bahwa mereka tidak terlibat secara signifikan dengan platform/produk yang ditawarkan.\n",
    "\n"
   ]
  },
  {
   "cell_type": "markdown",
   "metadata": {},
   "source": [
    "# Rekomendasi\n",
    "\n",
    "berikut diterapkan beberapa usulan strategi pemasaran untuk masing-masing segment yang ter-Highlight\n",
    "\n",
    "#### Segmen Pelanggan Ideal\n",
    "\n",
    "- Retensi: Fokus pada program loyalitas dan penghargaan untuk menjaga kepuasan dan keterlibatan mereka.\n",
    "- Upselling dan Cross-selling: Tawarkan produk tambahan atau premium yang sesuai dengan preferensi mereka.\n",
    "- Personalization: Berikan penawaran yang dipersonalisasi berdasarkan riwayat pembelian mereka.\n",
    "\n",
    "#### Segmen Active, Tidak Loyal \n",
    "\n",
    "- Engagement: Tingkatkan keterlibatan dengan kampanye pemasaran yang menarik dan relevan.\n",
    "- Promotions: Tawarkan diskon atau penawaran khusus untuk mendorong pembelian lebih sering.\n",
    "- Feedback: Kumpulkan masukkan untuk memahami kendala atau hambatan yang mereka hadapi dan perbaiki layanan/produk sesuai kebutuhan mereka.\n",
    "\n",
    "#### Segmen Resiko Churn\n",
    "\n",
    "- Reactivation Campaigns: Luncurkan kampanye reaktivasi yang ditargetkan untuk menarik kembali minat mereka. Contoh: email khusus dengan penawaran eksklusif atau diskon yang besar."
   ]
  },
  {
   "cell_type": "markdown",
   "metadata": {},
   "source": []
  },
  {
   "cell_type": "code",
   "execution_count": 21,
   "metadata": {},
   "outputs": [],
   "source": [
    "# dfF=pd.merge(df,dfR,on='Customer ID',how='left')\n",
    "# dfF.to_csv('Saas Sales Full.csv')\n",
    "# dfR.to_csv('Saas Sales RFM.csv')\n",
    "# plot.to_csv('Saas Sales Group.csv')"
   ]
  },
  {
   "cell_type": "code",
   "execution_count": null,
   "metadata": {},
   "outputs": [],
   "source": []
  }
 ],
 "metadata": {
  "kernelspec": {
   "display_name": "base",
   "language": "python",
   "name": "python3"
  },
  "language_info": {
   "codemirror_mode": {
    "name": "ipython",
    "version": 3
   },
   "file_extension": ".py",
   "mimetype": "text/x-python",
   "name": "python",
   "nbconvert_exporter": "python",
   "pygments_lexer": "ipython3",
   "version": "3.11.5"
  }
 },
 "nbformat": 4,
 "nbformat_minor": 2
}
